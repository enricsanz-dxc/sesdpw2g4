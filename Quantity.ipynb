{
  "nbformat": 4,
  "nbformat_minor": 0,
  "metadata": {
    "colab": {
      "name": "SE SDP (Wave 2) Group 4.ipynb",
      "provenance": [],
      "toc_visible": true,
      "include_colab_link": true
    },
    "kernelspec": {
      "name": "python3",
      "display_name": "Python 3"
    }
  },
  "cells": [
    {
      "cell_type": "markdown",
      "metadata": {
        "id": "view-in-github",
        "colab_type": "text"
      },
      "source": [
        "<a href=\"https://colab.research.google.com/github/enricsanz-dxc/sesdpw2g4/blob/main/Quantity.ipynb\" target=\"_parent\"><img src=\"https://colab.research.google.com/assets/colab-badge.svg\" alt=\"Open In Colab\"/></a>"
      ]
    },
    {
      "cell_type": "markdown",
      "metadata": {
        "id": "mDsMU7stbdB5"
      },
      "source": [
        "# SE SDP Wave 2 . Group 4. Use Case\r\n",
        "\r\n",
        "## Quantity prediction\r\n",
        "### Time Series\r\n",
        "You need to predict two metrics: ALLOCATION and CAPACITY (allocation = ordered quantity, capacity = consumed quantity)  \r\n",
        "* An appropriate algorithm is the so called “Holt-Winters-Algorithm”  \r\n",
        "* Use TYPE = 1 only, TYPE=2 is not relevant for this time series approach! “1” stands for “households”  \r\n",
        "* All data are historical data reaching from 01 Jan 2017 – 02 June 2020. Data reaching from 03 June 2020 to 31 Dec 2020 are simply a guess taken by the NRG-4-U business department and must not be considered within your analysis\r\n",
        "* As the business department is under high time pressure, they asked you to predict on the training set only (no test set required)\r\n",
        "* Pls consider: if a station does not come with complete historical data it must be removed from the prediction process (this must be documented for the business department)\r\n",
        "* Prediction period: 03 June 2020 - 31.12.2021\r\n",
        "* Pls remember you need to predict 365 days for every station (guess you have 10 stations, then your result table will be containing 3650 records)\r\n",
        "\r\n",
        "\r\n",
        "\r\n"
      ]
    },
    {
      "cell_type": "markdown",
      "metadata": {
        "id": "OZobS5ct_Noe"
      },
      "source": [
        "#### Read csv files\r\n",
        "* Files has been stored on GITHUB to facilitate location from Notebook.\r\n",
        "---\r\n",
        "See files on: https://github.com/enricsanz-dxc/sesdpw2g4\r\n"
      ]
    },
    {
      "cell_type": "code",
      "metadata": {
        "id": "P1sORGn6-uu7"
      },
      "source": [
        "import pandas as pd\r\n",
        "import io\r\n",
        "import datetime\r\n"
      ],
      "execution_count": 1,
      "outputs": []
    },
    {
      "cell_type": "code",
      "metadata": {
        "id": "xVhk168Z-zV4"
      },
      "source": [
        "# Import  files from GITHUB\r\n",
        "url_inputdata_timeseries = 'https://github.com/enricsanz-dxc/sesdpw2g4/blob/main/files/inputdata_timeseries.csv?raw=true'\r\n",
        "\r\n",
        "df_it = pd.read_csv(url_inputdata_timeseries, index_col=3, parse_dates=True)"
      ],
      "execution_count": 2,
      "outputs": []
    },
    {
      "cell_type": "code",
      "metadata": {
        "id": "MrQgn9a-h5Cv"
      },
      "source": [
        "# Filter TYPE 1 \r\n",
        "df_it=df_it[df_it['TYPE']==1]"
      ],
      "execution_count": 3,
      "outputs": []
    },
    {
      "cell_type": "code",
      "metadata": {
        "colab": {
          "base_uri": "https://localhost:8080/"
        },
        "id": "v586L2-LkK-4",
        "outputId": "e2aefd80-4e28-4e79-d5f0-fdd28166d28b"
      },
      "source": [
        "df_it['STATION'].value_counts()"
      ],
      "execution_count": 4,
      "outputs": [
        {
          "output_type": "execute_result",
          "data": {
            "text/plain": [
              "L1001121    1553\n",
              "L2000260    1553\n",
              "L2000360    1553\n",
              "L1000896    1553\n",
              "L2000746    1553\n",
              "L1001105    1553\n",
              "L1000920    1553\n",
              "L1000488    1553\n",
              "L2000932    1553\n",
              "L2000361    1553\n",
              "L1000923    1553\n",
              "L2000022    1553\n",
              "L1000947    1553\n",
              "L1000601    1553\n",
              "L1001138    1553\n",
              "L1000899    1553\n",
              "L1000927    1553\n",
              "L2000907    1553\n",
              "L2000703    1553\n",
              "L2000600    1553\n",
              "L1001052    1553\n",
              "L2001083    1553\n",
              "L1000672    1553\n",
              "L1000945    1553\n",
              "L2001082    1553\n",
              "L1001094    1553\n",
              "L1001118    1553\n",
              "L1001103    1553\n",
              "L1001076    1553\n",
              "L1000732    1553\n",
              "L1000915    1553\n",
              "L2000943    1553\n",
              "L1001117    1553\n",
              "L1001123    1553\n",
              "L1000780    1553\n",
              "L1001107    1553\n",
              "L1000950    1553\n",
              "L2000857    1553\n",
              "L1000970    1553\n",
              "L2000800    1553\n",
              "L1000955    1553\n",
              "Name: STATION, dtype: int64"
            ]
          },
          "metadata": {
            "tags": []
          },
          "execution_count": 4
        }
      ]
    },
    {
      "cell_type": "code",
      "metadata": {
        "id": "N8wQZOA-ej-G"
      },
      "source": [
        "# Filter Stations with complete timeseries \r\n",
        "df_it=df_it.groupby('STATION').filter(lambda x: len(x) >= 1553)"
      ],
      "execution_count": 5,
      "outputs": []
    },
    {
      "cell_type": "code",
      "metadata": {
        "id": "58yARrx6_W9M",
        "colab": {
          "base_uri": "https://localhost:8080/",
          "height": 235
        },
        "outputId": "97e0f7b3-e229-4e76-e337-80a668614e49"
      },
      "source": [
        "df_it.head()\r\n"
      ],
      "execution_count": 6,
      "outputs": [
        {
          "output_type": "execute_result",
          "data": {
            "text/html": [
              "<div>\n",
              "<style scoped>\n",
              "    .dataframe tbody tr th:only-of-type {\n",
              "        vertical-align: middle;\n",
              "    }\n",
              "\n",
              "    .dataframe tbody tr th {\n",
              "        vertical-align: top;\n",
              "    }\n",
              "\n",
              "    .dataframe thead th {\n",
              "        text-align: right;\n",
              "    }\n",
              "</style>\n",
              "<table border=\"1\" class=\"dataframe\">\n",
              "  <thead>\n",
              "    <tr style=\"text-align: right;\">\n",
              "      <th></th>\n",
              "      <th>TYPE</th>\n",
              "      <th>STATION</th>\n",
              "      <th>CALENDARYEAR</th>\n",
              "      <th>ALLOCATION</th>\n",
              "      <th>CAPACITY</th>\n",
              "    </tr>\n",
              "    <tr>\n",
              "      <th>DAY</th>\n",
              "      <th></th>\n",
              "      <th></th>\n",
              "      <th></th>\n",
              "      <th></th>\n",
              "      <th></th>\n",
              "    </tr>\n",
              "  </thead>\n",
              "  <tbody>\n",
              "    <tr>\n",
              "      <th>2017-10-01</th>\n",
              "      <td>1</td>\n",
              "      <td>L1000488</td>\n",
              "      <td>2017</td>\n",
              "      <td>26580795.0</td>\n",
              "      <td>27445866.0</td>\n",
              "    </tr>\n",
              "    <tr>\n",
              "      <th>2017-10-02</th>\n",
              "      <td>1</td>\n",
              "      <td>L1000488</td>\n",
              "      <td>2017</td>\n",
              "      <td>22755336.0</td>\n",
              "      <td>27445866.0</td>\n",
              "    </tr>\n",
              "    <tr>\n",
              "      <th>2017-10-03</th>\n",
              "      <td>1</td>\n",
              "      <td>L1000488</td>\n",
              "      <td>2017</td>\n",
              "      <td>25024228.0</td>\n",
              "      <td>27445866.0</td>\n",
              "    </tr>\n",
              "    <tr>\n",
              "      <th>2017-10-04</th>\n",
              "      <td>1</td>\n",
              "      <td>L1000488</td>\n",
              "      <td>2017</td>\n",
              "      <td>25024228.0</td>\n",
              "      <td>27445866.0</td>\n",
              "    </tr>\n",
              "    <tr>\n",
              "      <th>2017-10-05</th>\n",
              "      <td>1</td>\n",
              "      <td>L1000488</td>\n",
              "      <td>2017</td>\n",
              "      <td>25265545.0</td>\n",
              "      <td>27445866.0</td>\n",
              "    </tr>\n",
              "  </tbody>\n",
              "</table>\n",
              "</div>"
            ],
            "text/plain": [
              "            TYPE   STATION  CALENDARYEAR  ALLOCATION    CAPACITY\n",
              "DAY                                                             \n",
              "2017-10-01     1  L1000488          2017  26580795.0  27445866.0\n",
              "2017-10-02     1  L1000488          2017  22755336.0  27445866.0\n",
              "2017-10-03     1  L1000488          2017  25024228.0  27445866.0\n",
              "2017-10-04     1  L1000488          2017  25024228.0  27445866.0\n",
              "2017-10-05     1  L1000488          2017  25265545.0  27445866.0"
            ]
          },
          "metadata": {
            "tags": []
          },
          "execution_count": 6
        }
      ]
    },
    {
      "cell_type": "code",
      "metadata": {
        "colab": {
          "base_uri": "https://localhost:8080/"
        },
        "id": "OIgPLATTgLcU",
        "outputId": "6925d9e5-aa00-47d9-8d25-01c9e20559b2"
      },
      "source": [
        "df_it.info()"
      ],
      "execution_count": 7,
      "outputs": [
        {
          "output_type": "stream",
          "text": [
            "<class 'pandas.core.frame.DataFrame'>\n",
            "DatetimeIndex: 63673 entries, 2017-10-01 to 2021-12-31\n",
            "Data columns (total 5 columns):\n",
            " #   Column        Non-Null Count  Dtype  \n",
            "---  ------        --------------  -----  \n",
            " 0   TYPE          63673 non-null  int64  \n",
            " 1   STATION       63673 non-null  object \n",
            " 2   CALENDARYEAR  63673 non-null  int64  \n",
            " 3   ALLOCATION    63673 non-null  float64\n",
            " 4   CAPACITY      63673 non-null  float64\n",
            "dtypes: float64(2), int64(2), object(1)\n",
            "memory usage: 2.9+ MB\n"
          ],
          "name": "stdout"
        }
      ]
    },
    {
      "cell_type": "code",
      "metadata": {
        "colab": {
          "base_uri": "https://localhost:8080/",
          "height": 235
        },
        "id": "-aHNs2Vqt0Al",
        "outputId": "4ebffff5-461b-4fe9-ba4f-25813eb46f70"
      },
      "source": [
        "# Add columns with year, month, and weekday name\r\n",
        "df_it['Year'] = df_it.index.year\r\n",
        "df_it['Month'] = df_it.index.month\r\n",
        "# Display a random sampling of 5 rows\r\n",
        "df_it.sample(5, random_state=0)"
      ],
      "execution_count": 8,
      "outputs": [
        {
          "output_type": "execute_result",
          "data": {
            "text/html": [
              "<div>\n",
              "<style scoped>\n",
              "    .dataframe tbody tr th:only-of-type {\n",
              "        vertical-align: middle;\n",
              "    }\n",
              "\n",
              "    .dataframe tbody tr th {\n",
              "        vertical-align: top;\n",
              "    }\n",
              "\n",
              "    .dataframe thead th {\n",
              "        text-align: right;\n",
              "    }\n",
              "</style>\n",
              "<table border=\"1\" class=\"dataframe\">\n",
              "  <thead>\n",
              "    <tr style=\"text-align: right;\">\n",
              "      <th></th>\n",
              "      <th>TYPE</th>\n",
              "      <th>STATION</th>\n",
              "      <th>CALENDARYEAR</th>\n",
              "      <th>ALLOCATION</th>\n",
              "      <th>CAPACITY</th>\n",
              "      <th>Year</th>\n",
              "      <th>Month</th>\n",
              "    </tr>\n",
              "    <tr>\n",
              "      <th>DAY</th>\n",
              "      <th></th>\n",
              "      <th></th>\n",
              "      <th></th>\n",
              "      <th></th>\n",
              "      <th></th>\n",
              "      <th></th>\n",
              "      <th></th>\n",
              "    </tr>\n",
              "  </thead>\n",
              "  <tbody>\n",
              "    <tr>\n",
              "      <th>2021-01-24</th>\n",
              "      <td>1</td>\n",
              "      <td>L2000932</td>\n",
              "      <td>2021</td>\n",
              "      <td>0.0</td>\n",
              "      <td>0.0</td>\n",
              "      <td>2021</td>\n",
              "      <td>1</td>\n",
              "    </tr>\n",
              "    <tr>\n",
              "      <th>2020-07-11</th>\n",
              "      <td>1</td>\n",
              "      <td>L2000943</td>\n",
              "      <td>2020</td>\n",
              "      <td>0.0</td>\n",
              "      <td>868407.0</td>\n",
              "      <td>2020</td>\n",
              "      <td>7</td>\n",
              "    </tr>\n",
              "    <tr>\n",
              "      <th>2021-01-08</th>\n",
              "      <td>1</td>\n",
              "      <td>L2000703</td>\n",
              "      <td>2021</td>\n",
              "      <td>0.0</td>\n",
              "      <td>1.0</td>\n",
              "      <td>2021</td>\n",
              "      <td>1</td>\n",
              "    </tr>\n",
              "    <tr>\n",
              "      <th>2018-09-22</th>\n",
              "      <td>1</td>\n",
              "      <td>L1001118</td>\n",
              "      <td>2018</td>\n",
              "      <td>1070.0</td>\n",
              "      <td>1392.0</td>\n",
              "      <td>2018</td>\n",
              "      <td>9</td>\n",
              "    </tr>\n",
              "    <tr>\n",
              "      <th>2018-02-12</th>\n",
              "      <td>1</td>\n",
              "      <td>L1000488</td>\n",
              "      <td>2018</td>\n",
              "      <td>25115844.0</td>\n",
              "      <td>25324021.0</td>\n",
              "      <td>2018</td>\n",
              "      <td>2</td>\n",
              "    </tr>\n",
              "  </tbody>\n",
              "</table>\n",
              "</div>"
            ],
            "text/plain": [
              "            TYPE   STATION  CALENDARYEAR  ALLOCATION    CAPACITY  Year  Month\n",
              "DAY                                                                          \n",
              "2021-01-24     1  L2000932          2021         0.0         0.0  2021      1\n",
              "2020-07-11     1  L2000943          2020         0.0    868407.0  2020      7\n",
              "2021-01-08     1  L2000703          2021         0.0         1.0  2021      1\n",
              "2018-09-22     1  L1001118          2018      1070.0      1392.0  2018      9\n",
              "2018-02-12     1  L1000488          2018  25115844.0  25324021.0  2018      2"
            ]
          },
          "metadata": {
            "tags": []
          },
          "execution_count": 8
        }
      ]
    },
    {
      "cell_type": "code",
      "metadata": {
        "id": "TkF4NqvWvjhN"
      },
      "source": [
        "#Filter only data from  01 Jan 2017 – 02 June 2020\r\n",
        "df_f=df_it.loc['2017-01-01':'2020-06-02']"
      ],
      "execution_count": 9,
      "outputs": []
    },
    {
      "cell_type": "code",
      "metadata": {
        "colab": {
          "base_uri": "https://localhost:8080/"
        },
        "id": "MBp_Y0ilwlNr",
        "outputId": "fd19828d-aa38-43ee-ebdf-2b6c14f8d5dd"
      },
      "source": [
        "df_f.info()"
      ],
      "execution_count": 10,
      "outputs": [
        {
          "output_type": "stream",
          "text": [
            "<class 'pandas.core.frame.DataFrame'>\n",
            "DatetimeIndex: 40016 entries, 2017-10-01 to 2020-06-02\n",
            "Data columns (total 7 columns):\n",
            " #   Column        Non-Null Count  Dtype  \n",
            "---  ------        --------------  -----  \n",
            " 0   TYPE          40016 non-null  int64  \n",
            " 1   STATION       40016 non-null  object \n",
            " 2   CALENDARYEAR  40016 non-null  int64  \n",
            " 3   ALLOCATION    40016 non-null  float64\n",
            " 4   CAPACITY      40016 non-null  float64\n",
            " 5   Year          40016 non-null  int64  \n",
            " 6   Month         40016 non-null  int64  \n",
            "dtypes: float64(2), int64(4), object(1)\n",
            "memory usage: 2.4+ MB\n"
          ],
          "name": "stdout"
        }
      ]
    },
    {
      "cell_type": "code",
      "metadata": {
        "colab": {
          "base_uri": "https://localhost:8080/"
        },
        "id": "SmVWK7bJhsqi",
        "outputId": "646e1f46-59c5-49ea-c137-637028796433"
      },
      "source": [
        "df_f['STATION'].value_counts()"
      ],
      "execution_count": 11,
      "outputs": [
        {
          "output_type": "execute_result",
          "data": {
            "text/plain": [
              "L1001121    976\n",
              "L1001117    976\n",
              "L1001123    976\n",
              "L1000780    976\n",
              "L1001107    976\n",
              "L1000950    976\n",
              "L2000857    976\n",
              "L1000970    976\n",
              "L1000899    976\n",
              "L1000927    976\n",
              "L2000800    976\n",
              "L1000672    976\n",
              "L2000907    976\n",
              "L1001052    976\n",
              "L2000260    976\n",
              "L2000600    976\n",
              "L2000360    976\n",
              "L2000703    976\n",
              "L1000955    976\n",
              "L1001138    976\n",
              "L2000943    976\n",
              "L2001083    976\n",
              "L1000601    976\n",
              "L1000945    976\n",
              "L2000746    976\n",
              "L2001082    976\n",
              "L1001094    976\n",
              "L1001105    976\n",
              "L1001118    976\n",
              "L1001103    976\n",
              "L1001076    976\n",
              "L1000920    976\n",
              "L1000488    976\n",
              "L2000932    976\n",
              "L1000732    976\n",
              "L2000361    976\n",
              "L1000923    976\n",
              "L2000022    976\n",
              "L1000915    976\n",
              "L1000947    976\n",
              "L1000896    976\n",
              "Name: STATION, dtype: int64"
            ]
          },
          "metadata": {
            "tags": []
          },
          "execution_count": 11
        }
      ]
    },
    {
      "cell_type": "code",
      "metadata": {
        "id": "Ks6GJdI_nY5E"
      },
      "source": [
        "import matplotlib.pyplot as plt"
      ],
      "execution_count": 12,
      "outputs": []
    },
    {
      "cell_type": "code",
      "metadata": {
        "id": "3JG-TKKEnaSA"
      },
      "source": [
        "import seaborn as sns\r\n",
        "# Use seaborn style defaults and set the default figure size\r\n",
        "sns.set(rc={'figure.figsize':(11, 4)})\r\n"
      ],
      "execution_count": 13,
      "outputs": []
    },
    {
      "cell_type": "code",
      "metadata": {
        "colab": {
          "base_uri": "https://localhost:8080/"
        },
        "id": "aTZX0qxlpkmC",
        "outputId": "02866e60-9aa7-4f27-94fd-0a5f33351504"
      },
      "source": [
        "df_it.index"
      ],
      "execution_count": 14,
      "outputs": [
        {
          "output_type": "execute_result",
          "data": {
            "text/plain": [
              "DatetimeIndex(['2017-10-01', '2017-10-02', '2017-10-03', '2017-10-04',\n",
              "               '2017-10-05', '2017-10-06', '2017-10-07', '2017-10-08',\n",
              "               '2017-10-09', '2017-10-10',\n",
              "               ...\n",
              "               '2021-12-22', '2021-12-23', '2021-12-24', '2021-12-25',\n",
              "               '2021-12-26', '2021-12-27', '2021-12-28', '2021-12-29',\n",
              "               '2021-12-30', '2021-12-31'],\n",
              "              dtype='datetime64[ns]', name='DAY', length=63673, freq=None)"
            ]
          },
          "metadata": {
            "tags": []
          },
          "execution_count": 14
        }
      ]
    },
    {
      "cell_type": "code",
      "metadata": {
        "id": "0Gj38jI8ptAs",
        "colab": {
          "base_uri": "https://localhost:8080/",
          "height": 282
        },
        "outputId": "611df74d-4ecc-4ff9-988e-a34100e97656"
      },
      "source": [
        "df_it=df_it.set_index('DAY')"
      ],
      "execution_count": 15,
      "outputs": [
        {
          "output_type": "error",
          "ename": "KeyError",
          "evalue": "ignored",
          "traceback": [
            "\u001b[0;31m---------------------------------------------------------------------------\u001b[0m",
            "\u001b[0;31mKeyError\u001b[0m                                  Traceback (most recent call last)",
            "\u001b[0;32m<ipython-input-15-68d20cfc939f>\u001b[0m in \u001b[0;36m<module>\u001b[0;34m()\u001b[0m\n\u001b[0;32m----> 1\u001b[0;31m \u001b[0mdf_it\u001b[0m\u001b[0;34m=\u001b[0m\u001b[0mdf_it\u001b[0m\u001b[0;34m.\u001b[0m\u001b[0mset_index\u001b[0m\u001b[0;34m(\u001b[0m\u001b[0;34m'DAY'\u001b[0m\u001b[0;34m)\u001b[0m\u001b[0;34m\u001b[0m\u001b[0;34m\u001b[0m\u001b[0m\n\u001b[0m",
            "\u001b[0;32m/usr/local/lib/python3.7/dist-packages/pandas/core/frame.py\u001b[0m in \u001b[0;36mset_index\u001b[0;34m(self, keys, drop, append, inplace, verify_integrity)\u001b[0m\n\u001b[1;32m   4553\u001b[0m \u001b[0;34m\u001b[0m\u001b[0m\n\u001b[1;32m   4554\u001b[0m         \u001b[0;32mif\u001b[0m \u001b[0mmissing\u001b[0m\u001b[0;34m:\u001b[0m\u001b[0;34m\u001b[0m\u001b[0;34m\u001b[0m\u001b[0m\n\u001b[0;32m-> 4555\u001b[0;31m             \u001b[0;32mraise\u001b[0m \u001b[0mKeyError\u001b[0m\u001b[0;34m(\u001b[0m\u001b[0;34mf\"None of {missing} are in the columns\"\u001b[0m\u001b[0;34m)\u001b[0m\u001b[0;34m\u001b[0m\u001b[0;34m\u001b[0m\u001b[0m\n\u001b[0m\u001b[1;32m   4556\u001b[0m \u001b[0;34m\u001b[0m\u001b[0m\n\u001b[1;32m   4557\u001b[0m         \u001b[0;32mif\u001b[0m \u001b[0minplace\u001b[0m\u001b[0;34m:\u001b[0m\u001b[0;34m\u001b[0m\u001b[0;34m\u001b[0m\u001b[0m\n",
            "\u001b[0;31mKeyError\u001b[0m: \"None of ['DAY'] are in the columns\""
          ]
        }
      ]
    },
    {
      "cell_type": "code",
      "metadata": {
        "id": "rIUy-0xdtFCj"
      },
      "source": [
        "df_it.index"
      ],
      "execution_count": null,
      "outputs": []
    },
    {
      "cell_type": "code",
      "metadata": {
        "id": "Aj6BOyGeqUBb"
      },
      "source": [
        "df_it.plot(x=\"DAY\",y=[\"ALLOCATION\", \"CAPACITY\"], figsize=(15,4))\r\n",
        "df_it.plot(x=\"DAY\", y=[\"CAPACITY\", \"ALLOCATION\"], style='.')"
      ],
      "execution_count": null,
      "outputs": []
    },
    {
      "cell_type": "code",
      "metadata": {
        "id": "WkAN6_EzneRu"
      },
      "source": [
        "df_it['ALLOCATION'].plot(linewidth=0.5);"
      ],
      "execution_count": null,
      "outputs": []
    },
    {
      "cell_type": "markdown",
      "metadata": {
        "id": "BEcrg-CSdGf8"
      },
      "source": [
        ""
      ]
    },
    {
      "cell_type": "markdown",
      "metadata": {
        "id": "r5rpCYC7cZu4"
      },
      "source": [
        "## Prediction for the IT department\r\n",
        "You need to predict the CAPA_QUANTITY only\r\n",
        "* This time use POINTTYPE=2 only (“2” stands for industry customers)\r\n",
        "* Pls create a training set reaching from 01 Jan 2016 – 31 Dec 2018 and test set reaching from 01 Jan 2019 – 31 Dec 2019\r\n",
        "* As prediction algorithms you should be considering multivariate linear and non-linear regression and Support Vector Machines (SVM). All these algorithms should be part of the ML tools. Otherwise, take an algorithm out of your choice.\r\n",
        "* You need to find the best combination (= combination with best prediction quality) for all possible input factor combinations\r\n",
        "* Pls consider that the input factors themselves need to be predicted when predicting the result for 2021.\r\n",
        "* Prediction period: 03 June 2020 - 31.12.2021\r\n",
        "* Pls remember you need to predict 365 days for every station (guess you have 10 stations, then your result table will be containing 3650 records)"
      ]
    },
    {
      "cell_type": "code",
      "metadata": {
        "id": "UcXwzoT_cZgU"
      },
      "source": [
        "url_quantityPrediction_quantities = 'https://github.com/enricsanz-dxc/sesdpw2g4/blob/main/files/quantityPrediction_quantities.csv?raw=true'\r\n",
        "url_quantityPrediction_stockPrices = 'https://github.com/enricsanz-dxc/sesdpw2g4/raw/main/files/quantityPrediction_stockPrices.csv?raw=true'\r\n",
        "url_quantityPrediction_temperatures = 'https://github.com/enricsanz-dxc/sesdpw2g4/raw/main/files/quantityPrediction_temperatures.csv?raw=true'\r\n",
        "\r\n",
        "\r\n",
        "df_qp_q = pd.read_csv(url_quantityPrediction_quantities,parse_dates=['stockdate'])\r\n",
        "df_qd_sp = pd.read_csv(url_quantityPrediction_stockPrices,parse_dates=['BUSINESSDATE'])\r\n",
        "df_qs_t = pd.read_csv(url_quantityPrediction_temperatures,parse_dates=['tempdate'])\r\n",
        "\r\n"
      ],
      "execution_count": null,
      "outputs": []
    },
    {
      "cell_type": "code",
      "metadata": {
        "colab": {
          "base_uri": "https://localhost:8080/",
          "height": 204
        },
        "id": "iXo3P86xcvCN",
        "outputId": "db9426e4-6a96-4c62-defe-b6c7e863019c"
      },
      "source": [
        "df_qd_sp.head()\r\n"
      ],
      "execution_count": 18,
      "outputs": [
        {
          "output_type": "execute_result",
          "data": {
            "text/html": [
              "<div>\n",
              "<style scoped>\n",
              "    .dataframe tbody tr th:only-of-type {\n",
              "        vertical-align: middle;\n",
              "    }\n",
              "\n",
              "    .dataframe tbody tr th {\n",
              "        vertical-align: top;\n",
              "    }\n",
              "\n",
              "    .dataframe thead th {\n",
              "        text-align: right;\n",
              "    }\n",
              "</style>\n",
              "<table border=\"1\" class=\"dataframe\">\n",
              "  <thead>\n",
              "    <tr style=\"text-align: right;\">\n",
              "      <th></th>\n",
              "      <th>stockdate</th>\n",
              "      <th>ncg</th>\n",
              "      <th>powerpool</th>\n",
              "      <th>ttf</th>\n",
              "      <th>ztp</th>\n",
              "      <th>powerpool_uk_ocm</th>\n",
              "    </tr>\n",
              "  </thead>\n",
              "  <tbody>\n",
              "    <tr>\n",
              "      <th>0</th>\n",
              "      <td>20160102</td>\n",
              "      <td>1971</td>\n",
              "      <td>2077</td>\n",
              "      <td>2075</td>\n",
              "      <td>20801</td>\n",
              "      <td>2077</td>\n",
              "    </tr>\n",
              "    <tr>\n",
              "      <th>1</th>\n",
              "      <td>20160103</td>\n",
              "      <td>2144</td>\n",
              "      <td>2158</td>\n",
              "      <td>2101</td>\n",
              "      <td>20802</td>\n",
              "      <td>2158</td>\n",
              "    </tr>\n",
              "    <tr>\n",
              "      <th>2</th>\n",
              "      <td>20160104</td>\n",
              "      <td>2155</td>\n",
              "      <td>2153</td>\n",
              "      <td>21157</td>\n",
              "      <td>21266</td>\n",
              "      <td>2153</td>\n",
              "    </tr>\n",
              "    <tr>\n",
              "      <th>3</th>\n",
              "      <td>20160105</td>\n",
              "      <td>2142</td>\n",
              "      <td>2169</td>\n",
              "      <td>21231</td>\n",
              "      <td>21441</td>\n",
              "      <td>2169</td>\n",
              "    </tr>\n",
              "    <tr>\n",
              "      <th>4</th>\n",
              "      <td>20160106</td>\n",
              "      <td>2198</td>\n",
              "      <td>2181</td>\n",
              "      <td>21412</td>\n",
              "      <td>21591</td>\n",
              "      <td>2181</td>\n",
              "    </tr>\n",
              "  </tbody>\n",
              "</table>\n",
              "</div>"
            ],
            "text/plain": [
              "   stockdate   ncg  powerpool    ttf    ztp  powerpool_uk_ocm\n",
              "0   20160102  1971       2077   2075  20801              2077\n",
              "1   20160103  2144       2158   2101  20802              2158\n",
              "2   20160104  2155       2153  21157  21266              2153\n",
              "3   20160105  2142       2169  21231  21441              2169\n",
              "4   20160106  2198       2181  21412  21591              2181"
            ]
          },
          "metadata": {
            "tags": []
          },
          "execution_count": 18
        }
      ]
    },
    {
      "cell_type": "code",
      "metadata": {
        "colab": {
          "base_uri": "https://localhost:8080/",
          "height": 204
        },
        "id": "GpGTHhs0cu2y",
        "outputId": "f9ca680a-6d4d-478d-cc0f-b64275055a53"
      },
      "source": [
        "df_qp_q.head()"
      ],
      "execution_count": 19,
      "outputs": [
        {
          "output_type": "execute_result",
          "data": {
            "text/html": [
              "<div>\n",
              "<style scoped>\n",
              "    .dataframe tbody tr th:only-of-type {\n",
              "        vertical-align: middle;\n",
              "    }\n",
              "\n",
              "    .dataframe tbody tr th {\n",
              "        vertical-align: top;\n",
              "    }\n",
              "\n",
              "    .dataframe thead th {\n",
              "        text-align: right;\n",
              "    }\n",
              "</style>\n",
              "<table border=\"1\" class=\"dataframe\">\n",
              "  <thead>\n",
              "    <tr style=\"text-align: right;\">\n",
              "      <th></th>\n",
              "      <th>STATIONS</th>\n",
              "      <th>PTYPE</th>\n",
              "      <th>BUSINESSDATE</th>\n",
              "      <th>CAPA_QUANTITY</th>\n",
              "    </tr>\n",
              "  </thead>\n",
              "  <tbody>\n",
              "    <tr>\n",
              "      <th>0</th>\n",
              "      <td>L2000800</td>\n",
              "      <td>2</td>\n",
              "      <td>20180422</td>\n",
              "      <td>94001640</td>\n",
              "    </tr>\n",
              "    <tr>\n",
              "      <th>1</th>\n",
              "      <td>L2000800</td>\n",
              "      <td>2</td>\n",
              "      <td>20180503</td>\n",
              "      <td>74321640</td>\n",
              "    </tr>\n",
              "    <tr>\n",
              "      <th>2</th>\n",
              "      <td>L2000800</td>\n",
              "      <td>2</td>\n",
              "      <td>20180504</td>\n",
              "      <td>74321640</td>\n",
              "    </tr>\n",
              "    <tr>\n",
              "      <th>3</th>\n",
              "      <td>L2000800</td>\n",
              "      <td>2</td>\n",
              "      <td>20180505</td>\n",
              "      <td>62321640</td>\n",
              "    </tr>\n",
              "    <tr>\n",
              "      <th>4</th>\n",
              "      <td>L2000800</td>\n",
              "      <td>2</td>\n",
              "      <td>20180524</td>\n",
              "      <td>119153640</td>\n",
              "    </tr>\n",
              "  </tbody>\n",
              "</table>\n",
              "</div>"
            ],
            "text/plain": [
              "   STATIONS  PTYPE  BUSINESSDATE  CAPA_QUANTITY\n",
              "0  L2000800      2      20180422       94001640\n",
              "1  L2000800      2      20180503       74321640\n",
              "2  L2000800      2      20180504       74321640\n",
              "3  L2000800      2      20180505       62321640\n",
              "4  L2000800      2      20180524      119153640"
            ]
          },
          "metadata": {
            "tags": []
          },
          "execution_count": 19
        }
      ]
    },
    {
      "cell_type": "code",
      "metadata": {
        "colab": {
          "base_uri": "https://localhost:8080/",
          "height": 204
        },
        "id": "jXaFHxpbcuf1",
        "outputId": "12620c51-3a13-43ed-f959-df550a14d233"
      },
      "source": [
        "df_qs_t.head()"
      ],
      "execution_count": 20,
      "outputs": [
        {
          "output_type": "execute_result",
          "data": {
            "text/html": [
              "<div>\n",
              "<style scoped>\n",
              "    .dataframe tbody tr th:only-of-type {\n",
              "        vertical-align: middle;\n",
              "    }\n",
              "\n",
              "    .dataframe tbody tr th {\n",
              "        vertical-align: top;\n",
              "    }\n",
              "\n",
              "    .dataframe thead th {\n",
              "        text-align: right;\n",
              "    }\n",
              "</style>\n",
              "<table border=\"1\" class=\"dataframe\">\n",
              "  <thead>\n",
              "    <tr style=\"text-align: right;\">\n",
              "      <th></th>\n",
              "      <th>tempdate</th>\n",
              "      <th>temp_de</th>\n",
              "      <th>temp_it</th>\n",
              "      <th>temp_at</th>\n",
              "      <th>temp_pl</th>\n",
              "      <th>temp_ru</th>\n",
              "      <th>temp_ukr</th>\n",
              "    </tr>\n",
              "  </thead>\n",
              "  <tbody>\n",
              "    <tr>\n",
              "      <th>0</th>\n",
              "      <td>20160102</td>\n",
              "      <td>8.2</td>\n",
              "      <td>-2.1</td>\n",
              "      <td>12.2</td>\n",
              "      <td>7.0</td>\n",
              "      <td>2.6</td>\n",
              "      <td>-1.5</td>\n",
              "    </tr>\n",
              "    <tr>\n",
              "      <th>1</th>\n",
              "      <td>20160103</td>\n",
              "      <td>6.1</td>\n",
              "      <td>-2.4</td>\n",
              "      <td>12.7</td>\n",
              "      <td>5.9</td>\n",
              "      <td>6.6</td>\n",
              "      <td>2.6</td>\n",
              "    </tr>\n",
              "    <tr>\n",
              "      <th>2</th>\n",
              "      <td>20160104</td>\n",
              "      <td>5.5</td>\n",
              "      <td>-0.3</td>\n",
              "      <td>11.0</td>\n",
              "      <td>6.4</td>\n",
              "      <td>5.9</td>\n",
              "      <td>2.5</td>\n",
              "    </tr>\n",
              "    <tr>\n",
              "      <th>3</th>\n",
              "      <td>20160105</td>\n",
              "      <td>4.9</td>\n",
              "      <td>1.8</td>\n",
              "      <td>10.8</td>\n",
              "      <td>3.2</td>\n",
              "      <td>6.2</td>\n",
              "      <td>3.1</td>\n",
              "    </tr>\n",
              "    <tr>\n",
              "      <th>4</th>\n",
              "      <td>20160106</td>\n",
              "      <td>3.3</td>\n",
              "      <td>2.0</td>\n",
              "      <td>8.4</td>\n",
              "      <td>2.4</td>\n",
              "      <td>4.7</td>\n",
              "      <td>3.4</td>\n",
              "    </tr>\n",
              "  </tbody>\n",
              "</table>\n",
              "</div>"
            ],
            "text/plain": [
              "   tempdate  temp_de  temp_it  temp_at  temp_pl  temp_ru  temp_ukr\n",
              "0  20160102      8.2     -2.1     12.2      7.0      2.6      -1.5\n",
              "1  20160103      6.1     -2.4     12.7      5.9      6.6       2.6\n",
              "2  20160104      5.5     -0.3     11.0      6.4      5.9       2.5\n",
              "3  20160105      4.9      1.8     10.8      3.2      6.2       3.1\n",
              "4  20160106      3.3      2.0      8.4      2.4      4.7       3.4"
            ]
          },
          "metadata": {
            "tags": []
          },
          "execution_count": 20
        }
      ]
    },
    {
      "cell_type": "markdown",
      "metadata": {
        "id": "SUP0r8sUGshg"
      },
      "source": [
        "Filter POINTTYPE=2"
      ]
    },
    {
      "cell_type": "code",
      "metadata": {
        "id": "WomET16cGrld"
      },
      "source": [
        "# Filter TYPE 1 \r\n",
        "df_qp_q=df_qp_q[df_qp_q['PTYPE']==2]"
      ],
      "execution_count": 22,
      "outputs": []
    },
    {
      "cell_type": "code",
      "metadata": {
        "colab": {
          "base_uri": "https://localhost:8080/",
          "height": 204
        },
        "id": "hpZofdLVGjxZ",
        "outputId": "3a660f05-1efe-4c71-b090-cdd81d577e64"
      },
      "source": [
        "df_qp_q.head()"
      ],
      "execution_count": 24,
      "outputs": [
        {
          "output_type": "execute_result",
          "data": {
            "text/html": [
              "<div>\n",
              "<style scoped>\n",
              "    .dataframe tbody tr th:only-of-type {\n",
              "        vertical-align: middle;\n",
              "    }\n",
              "\n",
              "    .dataframe tbody tr th {\n",
              "        vertical-align: top;\n",
              "    }\n",
              "\n",
              "    .dataframe thead th {\n",
              "        text-align: right;\n",
              "    }\n",
              "</style>\n",
              "<table border=\"1\" class=\"dataframe\">\n",
              "  <thead>\n",
              "    <tr style=\"text-align: right;\">\n",
              "      <th></th>\n",
              "      <th>STATIONS</th>\n",
              "      <th>PTYPE</th>\n",
              "      <th>BUSINESSDATE</th>\n",
              "      <th>CAPA_QUANTITY</th>\n",
              "    </tr>\n",
              "  </thead>\n",
              "  <tbody>\n",
              "    <tr>\n",
              "      <th>0</th>\n",
              "      <td>L2000800</td>\n",
              "      <td>2</td>\n",
              "      <td>20180422</td>\n",
              "      <td>94001640</td>\n",
              "    </tr>\n",
              "    <tr>\n",
              "      <th>1</th>\n",
              "      <td>L2000800</td>\n",
              "      <td>2</td>\n",
              "      <td>20180503</td>\n",
              "      <td>74321640</td>\n",
              "    </tr>\n",
              "    <tr>\n",
              "      <th>2</th>\n",
              "      <td>L2000800</td>\n",
              "      <td>2</td>\n",
              "      <td>20180504</td>\n",
              "      <td>74321640</td>\n",
              "    </tr>\n",
              "    <tr>\n",
              "      <th>3</th>\n",
              "      <td>L2000800</td>\n",
              "      <td>2</td>\n",
              "      <td>20180505</td>\n",
              "      <td>62321640</td>\n",
              "    </tr>\n",
              "    <tr>\n",
              "      <th>4</th>\n",
              "      <td>L2000800</td>\n",
              "      <td>2</td>\n",
              "      <td>20180524</td>\n",
              "      <td>119153640</td>\n",
              "    </tr>\n",
              "  </tbody>\n",
              "</table>\n",
              "</div>"
            ],
            "text/plain": [
              "   STATIONS  PTYPE  BUSINESSDATE  CAPA_QUANTITY\n",
              "0  L2000800      2      20180422       94001640\n",
              "1  L2000800      2      20180503       74321640\n",
              "2  L2000800      2      20180504       74321640\n",
              "3  L2000800      2      20180505       62321640\n",
              "4  L2000800      2      20180524      119153640"
            ]
          },
          "metadata": {
            "tags": []
          },
          "execution_count": 24
        }
      ]
    },
    {
      "cell_type": "markdown",
      "metadata": {
        "id": "iaeb69bhHXoK"
      },
      "source": [
        "Create a training set reaching from 01 Jan 2016 – 31 Dec 2018 and test set reaching from 01 Jan 2019 – 31 Dec 2019"
      ]
    },
    {
      "cell_type": "code",
      "metadata": {
        "id": "H-MeCsvwHZ2O"
      },
      "source": [
        ""
      ],
      "execution_count": null,
      "outputs": []
    }
  ]
}