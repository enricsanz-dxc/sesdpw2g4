{
  "nbformat": 4,
  "nbformat_minor": 0,
  "metadata": {
    "colab": {
      "name": "SE SDP (Wave 2) Group 4.ipynb",
      "provenance": [],
      "toc_visible": true,
      "include_colab_link": true
    },
    "kernelspec": {
      "name": "python3",
      "display_name": "Python 3"
    }
  },
  "cells": [
    {
      "cell_type": "markdown",
      "metadata": {
        "id": "view-in-github",
        "colab_type": "text"
      },
      "source": [
        "<a href=\"https://colab.research.google.com/github/enricsanz-dxc/sesdpw2g4/blob/main/SE_SDP_(Wave_2)_Group_4.ipynb\" target=\"_parent\"><img src=\"https://colab.research.google.com/assets/colab-badge.svg\" alt=\"Open In Colab\"/></a>"
      ]
    },
    {
      "cell_type": "markdown",
      "metadata": {
        "id": "mDsMU7stbdB5"
      },
      "source": [
        "# SE SDP Wave 2 . Group 4. Use Case\r\n",
        "\r\n",
        "## Quantity prediction\r\n",
        "### Time Series\r\n",
        "You need to predict two metrics: ALLOCATION and CAPACITY (allocation = ordered quantity, capacity = consumed quantity)  \r\n",
        "* An appropriate algorithm is the so called “Holt-Winters-Algorithm”  \r\n",
        "* Use TYPE = 1 only, TYPE=2 is not relevant for this time series approach! “1” stands for “households”  \r\n",
        "* All data are historical data reaching from 01 Jan 2017 – 02 June 2020. Data reaching from 03 June 2020 to 31 Dec 2020 are simply a guess taken by the NRG-4-U business department and must not be considered within your analysis\r\n",
        "* As the business department is under high time pressure, they asked you to predict on the training set only (no test set required)\r\n",
        "* Pls consider: if a station does not come with complete historical data it must be removed from the prediction process (this must be documented for the business department)\r\n",
        "* Prediction period: 03 June 2020 - 31.12.2021\r\n",
        "* Pls remember you need to predict 365 days for every station (guess you have 10 stations, then your result table will be containing 3650 records)\r\n",
        "\r\n",
        "\r\n",
        "\r\n"
      ]
    },
    {
      "cell_type": "markdown",
      "metadata": {
        "id": "OZobS5ct_Noe"
      },
      "source": [
        "#### Read csv files\r\n",
        "* Files has been stored on GITHUB to facilitate location from Notebook.\r\n",
        "---\r\n",
        "See files on: https://github.com/enricsanz-dxc/sesdpw2g4\r\n"
      ]
    },
    {
      "cell_type": "code",
      "metadata": {
        "id": "P1sORGn6-uu7"
      },
      "source": [
        "import pandas as pd\r\n",
        "import io\r\n",
        "import datetime\r\n"
      ],
      "execution_count": 1,
      "outputs": []
    },
    {
      "cell_type": "code",
      "metadata": {
        "id": "xVhk168Z-zV4"
      },
      "source": [
        "# Import  files from GITHUB\r\n",
        "url_inputdata_timeseries = 'https://github.com/enricsanz-dxc/sesdpw2g4/blob/main/files/inputdata_timeseries.csv?raw=true'\r\n",
        "\r\n",
        "df_it = pd.read_csv(url_inputdata_timeseries, index_col=3, parse_dates=True)"
      ],
      "execution_count": 2,
      "outputs": []
    },
    {
      "cell_type": "code",
      "metadata": {
        "id": "MrQgn9a-h5Cv"
      },
      "source": [
        "# Filter TYPE 1 \r\n",
        "df_it=df_it[df_it['TYPE']==1]"
      ],
      "execution_count": 3,
      "outputs": []
    },
    {
      "cell_type": "code",
      "metadata": {
        "id": "v586L2-LkK-4",
        "outputId": "e854649f-b345-46d6-c08a-2a9b65ddbc3b",
        "colab": {
          "base_uri": "https://localhost:8080/"
        }
      },
      "source": [
        "df_it['STATION'].value_counts()"
      ],
      "execution_count": 12,
      "outputs": [
        {
          "output_type": "execute_result",
          "data": {
            "text/plain": [
              "L1000899    1553\n",
              "L1000945    1553\n",
              "L1001103    1553\n",
              "L1001105    1553\n",
              "L2000943    1553\n",
              "L1000920    1553\n",
              "L1000970    1553\n",
              "L1000732    1553\n",
              "L1001117    1553\n",
              "L1001052    1553\n",
              "L1000950    1553\n",
              "L1000601    1553\n",
              "L2000746    1553\n",
              "L1000672    1553\n",
              "L2000703    1553\n",
              "L2000361    1553\n",
              "L2001082    1553\n",
              "L2000932    1553\n",
              "L1000780    1553\n",
              "L1001076    1553\n",
              "L2000260    1553\n",
              "L1000927    1553\n",
              "L1001094    1553\n",
              "L1000915    1553\n",
              "L1001118    1553\n",
              "L1000947    1553\n",
              "L2000600    1553\n",
              "L1000896    1553\n",
              "L2001083    1553\n",
              "L1000488    1553\n",
              "L2000857    1553\n",
              "L1000923    1553\n",
              "L1000955    1553\n",
              "L2000907    1553\n",
              "L2000360    1553\n",
              "L1001123    1553\n",
              "L1001121    1553\n",
              "L1001107    1553\n",
              "L2000022    1553\n",
              "L1001138    1553\n",
              "L2000800    1553\n",
              "Name: STATION, dtype: int64"
            ]
          },
          "metadata": {
            "tags": []
          },
          "execution_count": 12
        }
      ]
    },
    {
      "cell_type": "code",
      "metadata": {
        "id": "N8wQZOA-ej-G"
      },
      "source": [
        "# Filter Stations with complete timeseries \r\n",
        "df_it=df_it.groupby('STATION').filter(lambda x: len(x) >= 1553)"
      ],
      "execution_count": 4,
      "outputs": []
    },
    {
      "cell_type": "code",
      "metadata": {
        "id": "58yARrx6_W9M",
        "colab": {
          "base_uri": "https://localhost:8080/",
          "height": 235
        },
        "outputId": "86b0cded-209e-4cc7-dbb7-ee7c0c1c6ab9"
      },
      "source": [
        "df_it.head()\r\n"
      ],
      "execution_count": 5,
      "outputs": [
        {
          "output_type": "execute_result",
          "data": {
            "text/html": [
              "<div>\n",
              "<style scoped>\n",
              "    .dataframe tbody tr th:only-of-type {\n",
              "        vertical-align: middle;\n",
              "    }\n",
              "\n",
              "    .dataframe tbody tr th {\n",
              "        vertical-align: top;\n",
              "    }\n",
              "\n",
              "    .dataframe thead th {\n",
              "        text-align: right;\n",
              "    }\n",
              "</style>\n",
              "<table border=\"1\" class=\"dataframe\">\n",
              "  <thead>\n",
              "    <tr style=\"text-align: right;\">\n",
              "      <th></th>\n",
              "      <th>TYPE</th>\n",
              "      <th>STATION</th>\n",
              "      <th>CALENDARYEAR</th>\n",
              "      <th>ALLOCATION</th>\n",
              "      <th>CAPACITY</th>\n",
              "    </tr>\n",
              "    <tr>\n",
              "      <th>DAY</th>\n",
              "      <th></th>\n",
              "      <th></th>\n",
              "      <th></th>\n",
              "      <th></th>\n",
              "      <th></th>\n",
              "    </tr>\n",
              "  </thead>\n",
              "  <tbody>\n",
              "    <tr>\n",
              "      <th>2017-10-01</th>\n",
              "      <td>1</td>\n",
              "      <td>L1000488</td>\n",
              "      <td>2017</td>\n",
              "      <td>26580795.0</td>\n",
              "      <td>27445866.0</td>\n",
              "    </tr>\n",
              "    <tr>\n",
              "      <th>2017-10-02</th>\n",
              "      <td>1</td>\n",
              "      <td>L1000488</td>\n",
              "      <td>2017</td>\n",
              "      <td>22755336.0</td>\n",
              "      <td>27445866.0</td>\n",
              "    </tr>\n",
              "    <tr>\n",
              "      <th>2017-10-03</th>\n",
              "      <td>1</td>\n",
              "      <td>L1000488</td>\n",
              "      <td>2017</td>\n",
              "      <td>25024228.0</td>\n",
              "      <td>27445866.0</td>\n",
              "    </tr>\n",
              "    <tr>\n",
              "      <th>2017-10-04</th>\n",
              "      <td>1</td>\n",
              "      <td>L1000488</td>\n",
              "      <td>2017</td>\n",
              "      <td>25024228.0</td>\n",
              "      <td>27445866.0</td>\n",
              "    </tr>\n",
              "    <tr>\n",
              "      <th>2017-10-05</th>\n",
              "      <td>1</td>\n",
              "      <td>L1000488</td>\n",
              "      <td>2017</td>\n",
              "      <td>25265545.0</td>\n",
              "      <td>27445866.0</td>\n",
              "    </tr>\n",
              "  </tbody>\n",
              "</table>\n",
              "</div>"
            ],
            "text/plain": [
              "            TYPE   STATION  CALENDARYEAR  ALLOCATION    CAPACITY\n",
              "DAY                                                             \n",
              "2017-10-01     1  L1000488          2017  26580795.0  27445866.0\n",
              "2017-10-02     1  L1000488          2017  22755336.0  27445866.0\n",
              "2017-10-03     1  L1000488          2017  25024228.0  27445866.0\n",
              "2017-10-04     1  L1000488          2017  25024228.0  27445866.0\n",
              "2017-10-05     1  L1000488          2017  25265545.0  27445866.0"
            ]
          },
          "metadata": {
            "tags": []
          },
          "execution_count": 5
        }
      ]
    },
    {
      "cell_type": "code",
      "metadata": {
        "id": "OIgPLATTgLcU",
        "outputId": "c242638b-481a-426f-9049-98c6267b2472",
        "colab": {
          "base_uri": "https://localhost:8080/"
        }
      },
      "source": [
        "df_it.info()"
      ],
      "execution_count": 6,
      "outputs": [
        {
          "output_type": "stream",
          "text": [
            "<class 'pandas.core.frame.DataFrame'>\n",
            "DatetimeIndex: 63673 entries, 2017-10-01 to 2021-12-31\n",
            "Data columns (total 5 columns):\n",
            " #   Column        Non-Null Count  Dtype  \n",
            "---  ------        --------------  -----  \n",
            " 0   TYPE          63673 non-null  int64  \n",
            " 1   STATION       63673 non-null  object \n",
            " 2   CALENDARYEAR  63673 non-null  int64  \n",
            " 3   ALLOCATION    63673 non-null  float64\n",
            " 4   CAPACITY      63673 non-null  float64\n",
            "dtypes: float64(2), int64(2), object(1)\n",
            "memory usage: 2.9+ MB\n"
          ],
          "name": "stdout"
        }
      ]
    },
    {
      "cell_type": "code",
      "metadata": {
        "id": "-aHNs2Vqt0Al",
        "outputId": "b8b6a2a6-9b69-4d10-d551-0e131c2fd98a",
        "colab": {
          "base_uri": "https://localhost:8080/",
          "height": 235
        }
      },
      "source": [
        "# Add columns with year, month, and weekday name\r\n",
        "df_it['Year'] = df_it.index.year\r\n",
        "df_it['Month'] = df_it.index.month\r\n",
        "# Display a random sampling of 5 rows\r\n",
        "df_it.sample(5, random_state=0)"
      ],
      "execution_count": 7,
      "outputs": [
        {
          "output_type": "execute_result",
          "data": {
            "text/html": [
              "<div>\n",
              "<style scoped>\n",
              "    .dataframe tbody tr th:only-of-type {\n",
              "        vertical-align: middle;\n",
              "    }\n",
              "\n",
              "    .dataframe tbody tr th {\n",
              "        vertical-align: top;\n",
              "    }\n",
              "\n",
              "    .dataframe thead th {\n",
              "        text-align: right;\n",
              "    }\n",
              "</style>\n",
              "<table border=\"1\" class=\"dataframe\">\n",
              "  <thead>\n",
              "    <tr style=\"text-align: right;\">\n",
              "      <th></th>\n",
              "      <th>TYPE</th>\n",
              "      <th>STATION</th>\n",
              "      <th>CALENDARYEAR</th>\n",
              "      <th>ALLOCATION</th>\n",
              "      <th>CAPACITY</th>\n",
              "      <th>Year</th>\n",
              "      <th>Month</th>\n",
              "    </tr>\n",
              "    <tr>\n",
              "      <th>DAY</th>\n",
              "      <th></th>\n",
              "      <th></th>\n",
              "      <th></th>\n",
              "      <th></th>\n",
              "      <th></th>\n",
              "      <th></th>\n",
              "      <th></th>\n",
              "    </tr>\n",
              "  </thead>\n",
              "  <tbody>\n",
              "    <tr>\n",
              "      <th>2021-01-24</th>\n",
              "      <td>1</td>\n",
              "      <td>L2000932</td>\n",
              "      <td>2021</td>\n",
              "      <td>0.0</td>\n",
              "      <td>0.0</td>\n",
              "      <td>2021</td>\n",
              "      <td>1</td>\n",
              "    </tr>\n",
              "    <tr>\n",
              "      <th>2020-07-11</th>\n",
              "      <td>1</td>\n",
              "      <td>L2000943</td>\n",
              "      <td>2020</td>\n",
              "      <td>0.0</td>\n",
              "      <td>868407.0</td>\n",
              "      <td>2020</td>\n",
              "      <td>7</td>\n",
              "    </tr>\n",
              "    <tr>\n",
              "      <th>2021-01-08</th>\n",
              "      <td>1</td>\n",
              "      <td>L2000703</td>\n",
              "      <td>2021</td>\n",
              "      <td>0.0</td>\n",
              "      <td>1.0</td>\n",
              "      <td>2021</td>\n",
              "      <td>1</td>\n",
              "    </tr>\n",
              "    <tr>\n",
              "      <th>2018-09-22</th>\n",
              "      <td>1</td>\n",
              "      <td>L1001118</td>\n",
              "      <td>2018</td>\n",
              "      <td>1070.0</td>\n",
              "      <td>1392.0</td>\n",
              "      <td>2018</td>\n",
              "      <td>9</td>\n",
              "    </tr>\n",
              "    <tr>\n",
              "      <th>2018-02-12</th>\n",
              "      <td>1</td>\n",
              "      <td>L1000488</td>\n",
              "      <td>2018</td>\n",
              "      <td>25115844.0</td>\n",
              "      <td>25324021.0</td>\n",
              "      <td>2018</td>\n",
              "      <td>2</td>\n",
              "    </tr>\n",
              "  </tbody>\n",
              "</table>\n",
              "</div>"
            ],
            "text/plain": [
              "            TYPE   STATION  CALENDARYEAR  ALLOCATION    CAPACITY  Year  Month\n",
              "DAY                                                                          \n",
              "2021-01-24     1  L2000932          2021         0.0         0.0  2021      1\n",
              "2020-07-11     1  L2000943          2020         0.0    868407.0  2020      7\n",
              "2021-01-08     1  L2000703          2021         0.0         1.0  2021      1\n",
              "2018-09-22     1  L1001118          2018      1070.0      1392.0  2018      9\n",
              "2018-02-12     1  L1000488          2018  25115844.0  25324021.0  2018      2"
            ]
          },
          "metadata": {
            "tags": []
          },
          "execution_count": 7
        }
      ]
    },
    {
      "cell_type": "code",
      "metadata": {
        "id": "TkF4NqvWvjhN"
      },
      "source": [
        "#Filter only data from  01 Jan 2017 – 02 June 2020\r\n",
        "df_f=df_it.loc['2017-01-01':'2020-06-02']"
      ],
      "execution_count": 10,
      "outputs": []
    },
    {
      "cell_type": "code",
      "metadata": {
        "id": "MBp_Y0ilwlNr",
        "outputId": "061ee35a-1106-42d4-8da3-fa2abb14f27c",
        "colab": {
          "base_uri": "https://localhost:8080/"
        }
      },
      "source": [
        "df_f.info()"
      ],
      "execution_count": 11,
      "outputs": [
        {
          "output_type": "stream",
          "text": [
            "<class 'pandas.core.frame.DataFrame'>\n",
            "DatetimeIndex: 40016 entries, 2017-10-01 to 2020-06-02\n",
            "Data columns (total 7 columns):\n",
            " #   Column        Non-Null Count  Dtype  \n",
            "---  ------        --------------  -----  \n",
            " 0   TYPE          40016 non-null  int64  \n",
            " 1   STATION       40016 non-null  object \n",
            " 2   CALENDARYEAR  40016 non-null  int64  \n",
            " 3   ALLOCATION    40016 non-null  float64\n",
            " 4   CAPACITY      40016 non-null  float64\n",
            " 5   Year          40016 non-null  int64  \n",
            " 6   Month         40016 non-null  int64  \n",
            "dtypes: float64(2), int64(4), object(1)\n",
            "memory usage: 2.4+ MB\n"
          ],
          "name": "stdout"
        }
      ]
    },
    {
      "cell_type": "code",
      "metadata": {
        "id": "SmVWK7bJhsqi",
        "outputId": "ba78374b-486a-48fc-81c8-35fa51b398e1",
        "colab": {
          "base_uri": "https://localhost:8080/"
        }
      },
      "source": [
        "df_f['STATION'].value_counts()"
      ],
      "execution_count": 13,
      "outputs": [
        {
          "output_type": "execute_result",
          "data": {
            "text/plain": [
              "L1001138    976\n",
              "L1000923    976\n",
              "L1000955    976\n",
              "L1001052    976\n",
              "L2000907    976\n",
              "L2000360    976\n",
              "L1001123    976\n",
              "L1001121    976\n",
              "L1000950    976\n",
              "L1000601    976\n",
              "L2000746    976\n",
              "L1000672    976\n",
              "L2000703    976\n",
              "L2000361    976\n",
              "L2001082    976\n",
              "L1001107    976\n",
              "L2000022    976\n",
              "L2000932    976\n",
              "L1000780    976\n",
              "L1001117    976\n",
              "L2000857    976\n",
              "L1001094    976\n",
              "L1000732    976\n",
              "L2000260    976\n",
              "L1000945    976\n",
              "L1000899    976\n",
              "L1001076    976\n",
              "L1000927    976\n",
              "L1001103    976\n",
              "L1001105    976\n",
              "L2000943    976\n",
              "L1000915    976\n",
              "L1001118    976\n",
              "L1000920    976\n",
              "L1000947    976\n",
              "L2000600    976\n",
              "L1000970    976\n",
              "L1000896    976\n",
              "L2001083    976\n",
              "L1000488    976\n",
              "L2000800    976\n",
              "Name: STATION, dtype: int64"
            ]
          },
          "metadata": {
            "tags": []
          },
          "execution_count": 13
        }
      ]
    },
    {
      "cell_type": "code",
      "metadata": {
        "id": "Ks6GJdI_nY5E"
      },
      "source": [
        "import matplotlib.pyplot as plt"
      ],
      "execution_count": 93,
      "outputs": []
    },
    {
      "cell_type": "code",
      "metadata": {
        "id": "3JG-TKKEnaSA"
      },
      "source": [
        "import seaborn as sns\r\n",
        "# Use seaborn style defaults and set the default figure size\r\n",
        "sns.set(rc={'figure.figsize':(11, 4)})\r\n"
      ],
      "execution_count": 94,
      "outputs": []
    },
    {
      "cell_type": "code",
      "metadata": {
        "id": "aTZX0qxlpkmC",
        "outputId": "0e988d62-1098-471f-a5cd-2f8f8a1bf5bc",
        "colab": {
          "base_uri": "https://localhost:8080/"
        }
      },
      "source": [
        "df_it.index"
      ],
      "execution_count": 95,
      "outputs": [
        {
          "output_type": "execute_result",
          "data": {
            "text/plain": [
              "Int64Index([     0,      2,      4,      6,      8,     10,     12,     14,\n",
              "                16,     18,\n",
              "            ...\n",
              "            128880, 128882, 128884, 128886, 128888, 128890, 128892, 128894,\n",
              "            128896, 128898],\n",
              "           dtype='int64', length=63673)"
            ]
          },
          "metadata": {
            "tags": []
          },
          "execution_count": 95
        }
      ]
    },
    {
      "cell_type": "code",
      "metadata": {
        "id": "0Gj38jI8ptAs"
      },
      "source": [
        "df_it=df_it.set_index('DAY')"
      ],
      "execution_count": 102,
      "outputs": []
    },
    {
      "cell_type": "code",
      "metadata": {
        "id": "rIUy-0xdtFCj",
        "outputId": "3f2bc7a0-dbb1-4bb6-f78e-a84277f1fb0d",
        "colab": {
          "base_uri": "https://localhost:8080/"
        }
      },
      "source": [
        "df_it.index"
      ],
      "execution_count": 103,
      "outputs": [
        {
          "output_type": "execute_result",
          "data": {
            "text/plain": [
              "Index(['2017-10-01', '2017-10-02', '2017-10-03', '2017-10-04', '2017-10-05',\n",
              "       '2017-10-06', '2017-10-07', '2017-10-08', '2017-10-09', '2017-10-10',\n",
              "       ...\n",
              "       '2021-12-22', '2021-12-23', '2021-12-24', '2021-12-25', '2021-12-26',\n",
              "       '2021-12-27', '2021-12-28', '2021-12-29', '2021-12-30', '2021-12-31'],\n",
              "      dtype='object', name='DAY', length=63673)"
            ]
          },
          "metadata": {
            "tags": []
          },
          "execution_count": 103
        }
      ]
    },
    {
      "cell_type": "code",
      "metadata": {
        "id": "Aj6BOyGeqUBb",
        "outputId": "8ff2b395-b75a-4c03-c3a5-df9ce7386c40",
        "colab": {
          "base_uri": "https://localhost:8080/",
          "height": 561
        }
      },
      "source": [
        "df_it.plot(x=\"DAY\",y=[\"ALLOCATION\", \"CAPACITY\"], figsize=(15,4))\r\n",
        "df_it.plot(x=\"DAY\", y=[\"CAPACITY\", \"ALLOCATION\"], style='.')"
      ],
      "execution_count": 104,
      "outputs": [
        {
          "output_type": "error",
          "ename": "KeyError",
          "evalue": "ignored",
          "traceback": [
            "\u001b[0;31m---------------------------------------------------------------------------\u001b[0m",
            "\u001b[0;31mKeyError\u001b[0m                                  Traceback (most recent call last)",
            "\u001b[0;32m/usr/local/lib/python3.6/dist-packages/pandas/core/indexes/base.py\u001b[0m in \u001b[0;36mget_loc\u001b[0;34m(self, key, method, tolerance)\u001b[0m\n\u001b[1;32m   2897\u001b[0m             \u001b[0;32mtry\u001b[0m\u001b[0;34m:\u001b[0m\u001b[0;34m\u001b[0m\u001b[0;34m\u001b[0m\u001b[0m\n\u001b[0;32m-> 2898\u001b[0;31m                 \u001b[0;32mreturn\u001b[0m \u001b[0mself\u001b[0m\u001b[0;34m.\u001b[0m\u001b[0m_engine\u001b[0m\u001b[0;34m.\u001b[0m\u001b[0mget_loc\u001b[0m\u001b[0;34m(\u001b[0m\u001b[0mcasted_key\u001b[0m\u001b[0;34m)\u001b[0m\u001b[0;34m\u001b[0m\u001b[0;34m\u001b[0m\u001b[0m\n\u001b[0m\u001b[1;32m   2899\u001b[0m             \u001b[0;32mexcept\u001b[0m \u001b[0mKeyError\u001b[0m \u001b[0;32mas\u001b[0m \u001b[0merr\u001b[0m\u001b[0;34m:\u001b[0m\u001b[0;34m\u001b[0m\u001b[0;34m\u001b[0m\u001b[0m\n",
            "\u001b[0;32mpandas/_libs/index.pyx\u001b[0m in \u001b[0;36mpandas._libs.index.IndexEngine.get_loc\u001b[0;34m()\u001b[0m\n",
            "\u001b[0;32mpandas/_libs/index.pyx\u001b[0m in \u001b[0;36mpandas._libs.index.IndexEngine.get_loc\u001b[0;34m()\u001b[0m\n",
            "\u001b[0;32mpandas/_libs/hashtable_class_helper.pxi\u001b[0m in \u001b[0;36mpandas._libs.hashtable.PyObjectHashTable.get_item\u001b[0;34m()\u001b[0m\n",
            "\u001b[0;32mpandas/_libs/hashtable_class_helper.pxi\u001b[0m in \u001b[0;36mpandas._libs.hashtable.PyObjectHashTable.get_item\u001b[0;34m()\u001b[0m\n",
            "\u001b[0;31mKeyError\u001b[0m: 'DAY'",
            "\nThe above exception was the direct cause of the following exception:\n",
            "\u001b[0;31mKeyError\u001b[0m                                  Traceback (most recent call last)",
            "\u001b[0;32m<ipython-input-104-f7805a431465>\u001b[0m in \u001b[0;36m<module>\u001b[0;34m()\u001b[0m\n\u001b[0;32m----> 1\u001b[0;31m \u001b[0mdf_it\u001b[0m\u001b[0;34m.\u001b[0m\u001b[0mplot\u001b[0m\u001b[0;34m(\u001b[0m\u001b[0mx\u001b[0m\u001b[0;34m=\u001b[0m\u001b[0;34m\"DAY\"\u001b[0m\u001b[0;34m,\u001b[0m\u001b[0my\u001b[0m\u001b[0;34m=\u001b[0m\u001b[0;34m[\u001b[0m\u001b[0;34m\"ALLOCATION\"\u001b[0m\u001b[0;34m,\u001b[0m \u001b[0;34m\"CAPACITY\"\u001b[0m\u001b[0;34m]\u001b[0m\u001b[0;34m,\u001b[0m \u001b[0mfigsize\u001b[0m\u001b[0;34m=\u001b[0m\u001b[0;34m(\u001b[0m\u001b[0;36m15\u001b[0m\u001b[0;34m,\u001b[0m\u001b[0;36m4\u001b[0m\u001b[0;34m)\u001b[0m\u001b[0;34m)\u001b[0m\u001b[0;34m\u001b[0m\u001b[0;34m\u001b[0m\u001b[0m\n\u001b[0m\u001b[1;32m      2\u001b[0m \u001b[0mdf_it\u001b[0m\u001b[0;34m.\u001b[0m\u001b[0mplot\u001b[0m\u001b[0;34m(\u001b[0m\u001b[0mx\u001b[0m\u001b[0;34m=\u001b[0m\u001b[0;34m\"DAY\"\u001b[0m\u001b[0;34m,\u001b[0m \u001b[0my\u001b[0m\u001b[0;34m=\u001b[0m\u001b[0;34m[\u001b[0m\u001b[0;34m\"CAPACITY\"\u001b[0m\u001b[0;34m,\u001b[0m \u001b[0;34m\"ALLOCATION\"\u001b[0m\u001b[0;34m]\u001b[0m\u001b[0;34m,\u001b[0m \u001b[0mstyle\u001b[0m\u001b[0;34m=\u001b[0m\u001b[0;34m'.'\u001b[0m\u001b[0;34m)\u001b[0m\u001b[0;34m\u001b[0m\u001b[0;34m\u001b[0m\u001b[0m\n",
            "\u001b[0;32m/usr/local/lib/python3.6/dist-packages/pandas/plotting/_core.py\u001b[0m in \u001b[0;36m__call__\u001b[0;34m(self, *args, **kwargs)\u001b[0m\n\u001b[1;32m    912\u001b[0m                 \u001b[0;32mif\u001b[0m \u001b[0mis_integer\u001b[0m\u001b[0;34m(\u001b[0m\u001b[0mx\u001b[0m\u001b[0;34m)\u001b[0m \u001b[0;32mand\u001b[0m \u001b[0;32mnot\u001b[0m \u001b[0mdata\u001b[0m\u001b[0;34m.\u001b[0m\u001b[0mcolumns\u001b[0m\u001b[0;34m.\u001b[0m\u001b[0mholds_integer\u001b[0m\u001b[0;34m(\u001b[0m\u001b[0;34m)\u001b[0m\u001b[0;34m:\u001b[0m\u001b[0;34m\u001b[0m\u001b[0;34m\u001b[0m\u001b[0m\n\u001b[1;32m    913\u001b[0m                     \u001b[0mx\u001b[0m \u001b[0;34m=\u001b[0m \u001b[0mdata_cols\u001b[0m\u001b[0;34m[\u001b[0m\u001b[0mx\u001b[0m\u001b[0;34m]\u001b[0m\u001b[0;34m\u001b[0m\u001b[0;34m\u001b[0m\u001b[0m\n\u001b[0;32m--> 914\u001b[0;31m                 \u001b[0;32melif\u001b[0m \u001b[0;32mnot\u001b[0m \u001b[0misinstance\u001b[0m\u001b[0;34m(\u001b[0m\u001b[0mdata\u001b[0m\u001b[0;34m[\u001b[0m\u001b[0mx\u001b[0m\u001b[0;34m]\u001b[0m\u001b[0;34m,\u001b[0m \u001b[0mABCSeries\u001b[0m\u001b[0;34m)\u001b[0m\u001b[0;34m:\u001b[0m\u001b[0;34m\u001b[0m\u001b[0;34m\u001b[0m\u001b[0m\n\u001b[0m\u001b[1;32m    915\u001b[0m                     \u001b[0;32mraise\u001b[0m \u001b[0mValueError\u001b[0m\u001b[0;34m(\u001b[0m\u001b[0;34m\"x must be a label or position\"\u001b[0m\u001b[0;34m)\u001b[0m\u001b[0;34m\u001b[0m\u001b[0;34m\u001b[0m\u001b[0m\n\u001b[1;32m    916\u001b[0m                 \u001b[0mdata\u001b[0m \u001b[0;34m=\u001b[0m \u001b[0mdata\u001b[0m\u001b[0;34m.\u001b[0m\u001b[0mset_index\u001b[0m\u001b[0;34m(\u001b[0m\u001b[0mx\u001b[0m\u001b[0;34m)\u001b[0m\u001b[0;34m\u001b[0m\u001b[0;34m\u001b[0m\u001b[0m\n",
            "\u001b[0;32m/usr/local/lib/python3.6/dist-packages/pandas/core/frame.py\u001b[0m in \u001b[0;36m__getitem__\u001b[0;34m(self, key)\u001b[0m\n\u001b[1;32m   2904\u001b[0m             \u001b[0;32mif\u001b[0m \u001b[0mself\u001b[0m\u001b[0;34m.\u001b[0m\u001b[0mcolumns\u001b[0m\u001b[0;34m.\u001b[0m\u001b[0mnlevels\u001b[0m \u001b[0;34m>\u001b[0m \u001b[0;36m1\u001b[0m\u001b[0;34m:\u001b[0m\u001b[0;34m\u001b[0m\u001b[0;34m\u001b[0m\u001b[0m\n\u001b[1;32m   2905\u001b[0m                 \u001b[0;32mreturn\u001b[0m \u001b[0mself\u001b[0m\u001b[0;34m.\u001b[0m\u001b[0m_getitem_multilevel\u001b[0m\u001b[0;34m(\u001b[0m\u001b[0mkey\u001b[0m\u001b[0;34m)\u001b[0m\u001b[0;34m\u001b[0m\u001b[0;34m\u001b[0m\u001b[0m\n\u001b[0;32m-> 2906\u001b[0;31m             \u001b[0mindexer\u001b[0m \u001b[0;34m=\u001b[0m \u001b[0mself\u001b[0m\u001b[0;34m.\u001b[0m\u001b[0mcolumns\u001b[0m\u001b[0;34m.\u001b[0m\u001b[0mget_loc\u001b[0m\u001b[0;34m(\u001b[0m\u001b[0mkey\u001b[0m\u001b[0;34m)\u001b[0m\u001b[0;34m\u001b[0m\u001b[0;34m\u001b[0m\u001b[0m\n\u001b[0m\u001b[1;32m   2907\u001b[0m             \u001b[0;32mif\u001b[0m \u001b[0mis_integer\u001b[0m\u001b[0;34m(\u001b[0m\u001b[0mindexer\u001b[0m\u001b[0;34m)\u001b[0m\u001b[0;34m:\u001b[0m\u001b[0;34m\u001b[0m\u001b[0;34m\u001b[0m\u001b[0m\n\u001b[1;32m   2908\u001b[0m                 \u001b[0mindexer\u001b[0m \u001b[0;34m=\u001b[0m \u001b[0;34m[\u001b[0m\u001b[0mindexer\u001b[0m\u001b[0;34m]\u001b[0m\u001b[0;34m\u001b[0m\u001b[0;34m\u001b[0m\u001b[0m\n",
            "\u001b[0;32m/usr/local/lib/python3.6/dist-packages/pandas/core/indexes/base.py\u001b[0m in \u001b[0;36mget_loc\u001b[0;34m(self, key, method, tolerance)\u001b[0m\n\u001b[1;32m   2898\u001b[0m                 \u001b[0;32mreturn\u001b[0m \u001b[0mself\u001b[0m\u001b[0;34m.\u001b[0m\u001b[0m_engine\u001b[0m\u001b[0;34m.\u001b[0m\u001b[0mget_loc\u001b[0m\u001b[0;34m(\u001b[0m\u001b[0mcasted_key\u001b[0m\u001b[0;34m)\u001b[0m\u001b[0;34m\u001b[0m\u001b[0;34m\u001b[0m\u001b[0m\n\u001b[1;32m   2899\u001b[0m             \u001b[0;32mexcept\u001b[0m \u001b[0mKeyError\u001b[0m \u001b[0;32mas\u001b[0m \u001b[0merr\u001b[0m\u001b[0;34m:\u001b[0m\u001b[0;34m\u001b[0m\u001b[0;34m\u001b[0m\u001b[0m\n\u001b[0;32m-> 2900\u001b[0;31m                 \u001b[0;32mraise\u001b[0m \u001b[0mKeyError\u001b[0m\u001b[0;34m(\u001b[0m\u001b[0mkey\u001b[0m\u001b[0;34m)\u001b[0m \u001b[0;32mfrom\u001b[0m \u001b[0merr\u001b[0m\u001b[0;34m\u001b[0m\u001b[0;34m\u001b[0m\u001b[0m\n\u001b[0m\u001b[1;32m   2901\u001b[0m \u001b[0;34m\u001b[0m\u001b[0m\n\u001b[1;32m   2902\u001b[0m         \u001b[0;32mif\u001b[0m \u001b[0mtolerance\u001b[0m \u001b[0;32mis\u001b[0m \u001b[0;32mnot\u001b[0m \u001b[0;32mNone\u001b[0m\u001b[0;34m:\u001b[0m\u001b[0;34m\u001b[0m\u001b[0;34m\u001b[0m\u001b[0m\n",
            "\u001b[0;31mKeyError\u001b[0m: 'DAY'"
          ]
        }
      ]
    },
    {
      "cell_type": "code",
      "metadata": {
        "id": "WkAN6_EzneRu",
        "outputId": "b19503a6-b09e-4bfe-90bd-0f7fe7bd52af",
        "colab": {
          "base_uri": "https://localhost:8080/",
          "height": 279
        }
      },
      "source": [
        "df_it['ALLOCATION'].plot(linewidth=0.5);"
      ],
      "execution_count": 72,
      "outputs": [
        {
          "output_type": "display_data",
          "data": {
            "image/png": "[encoded data removed]",
            "text/plain": [
              "<Figure size 792x288 with 1 Axes>"
            ]
          },
          "metadata": {
            "tags": []
          }
        }
      ]
    },
    {
      "cell_type": "markdown",
      "metadata": {
        "id": "BEcrg-CSdGf8"
      },
      "source": [
        ""
      ]
    },
    {
      "cell_type": "markdown",
      "metadata": {
        "id": "r5rpCYC7cZu4"
      },
      "source": [
        "## Prediction for the IT department\r\n",
        "You need to predict the CAPA_QUANTITY only\r\n",
        "* This time use POINTTYPE=2 only (“2” stands for industry customers)\r\n",
        "* Pls create a training set reaching from 01 Jan 2016 – 31 Dec 2018 and test set reaching from 01 Jan 2019 – 31 Dec 2019\r\n",
        "* As prediction algorithms you should be considering multivariate linear and non-linear regression and Support Vector Machines (SVM). All these algorithms should be part of the ML tools. Otherwise, take an algorithm out of your choice.\r\n",
        "* You need to find the best combination (= combination with best prediction quality) for all possible input factor combinations\r\n",
        "* Pls consider that the input factors themselves need to be predicted when predicting the result for 2021.\r\n",
        "* Prediction period: 03 June 2020 - 31.12.2021\r\n",
        "* Pls remember you need to predict 365 days for every station (guess you have 10 stations, then your result table will be containing 3650 records)"
      ]
    },
    {
      "cell_type": "code",
      "metadata": {
        "id": "UcXwzoT_cZgU"
      },
      "source": [
        "url_quantityPrediction_quantities = 'https://github.com/enricsanz-dxc/sesdpw2g4/blob/main/files/quantityPrediction_quantities.csv?raw=true'\r\n",
        "url_quantityPrediction_stockPrices = 'https://github.com/enricsanz-dxc/sesdpw2g4/raw/main/files/quantityPrediction_stockPrices.csv?raw=true'\r\n",
        "url_quantityPrediction_temperatures = 'https://github.com/enricsanz-dxc/sesdpw2g4/raw/main/files/quantityPrediction_temperatures.csv?raw=true'\r\n",
        "\r\n",
        "\r\n",
        "df_qp_q = pd.read_csv(url_quantityPrediction_quantities)\r\n",
        "df_qd_sp = pd.read_csv(url_quantityPrediction_stockPrices)\r\n",
        "df_qs_t = pd.read_csv(url_quantityPrediction_temperatures)\r\n",
        "\r\n"
      ],
      "execution_count": 12,
      "outputs": []
    },
    {
      "cell_type": "code",
      "metadata": {
        "colab": {
          "base_uri": "https://localhost:8080/",
          "height": 297
        },
        "id": "iXo3P86xcvCN",
        "outputId": "f31eb7ef-ddb3-4406-97b8-cb5cd87aee8d"
      },
      "source": [
        "df_qd_sp.describe()\r\n"
      ],
      "execution_count": 13,
      "outputs": [
        {
          "output_type": "execute_result",
          "data": {
            "text/html": [
              "<div>\n",
              "<style scoped>\n",
              "    .dataframe tbody tr th:only-of-type {\n",
              "        vertical-align: middle;\n",
              "    }\n",
              "\n",
              "    .dataframe tbody tr th {\n",
              "        vertical-align: top;\n",
              "    }\n",
              "\n",
              "    .dataframe thead th {\n",
              "        text-align: right;\n",
              "    }\n",
              "</style>\n",
              "<table border=\"1\" class=\"dataframe\">\n",
              "  <thead>\n",
              "    <tr style=\"text-align: right;\">\n",
              "      <th></th>\n",
              "      <th>stockdate</th>\n",
              "      <th>ncg</th>\n",
              "      <th>powerpool</th>\n",
              "      <th>ttf</th>\n",
              "      <th>ztp</th>\n",
              "      <th>powerpool_uk_ocm</th>\n",
              "    </tr>\n",
              "  </thead>\n",
              "  <tbody>\n",
              "    <tr>\n",
              "      <th>count</th>\n",
              "      <td>1.309000e+03</td>\n",
              "      <td>1309.000000</td>\n",
              "      <td>1309.000000</td>\n",
              "      <td>1309.000000</td>\n",
              "      <td>1309.000000</td>\n",
              "      <td>1309.000000</td>\n",
              "    </tr>\n",
              "    <tr>\n",
              "      <th>mean</th>\n",
              "      <td>2.017969e+07</td>\n",
              "      <td>14735.971734</td>\n",
              "      <td>14651.922078</td>\n",
              "      <td>18012.757066</td>\n",
              "      <td>16819.375859</td>\n",
              "      <td>14651.922078</td>\n",
              "    </tr>\n",
              "    <tr>\n",
              "      <th>std</th>\n",
              "      <td>1.268308e+04</td>\n",
              "      <td>9264.787289</td>\n",
              "      <td>9199.220152</td>\n",
              "      <td>8314.179722</td>\n",
              "      <td>9402.260896</td>\n",
              "      <td>9199.220152</td>\n",
              "    </tr>\n",
              "    <tr>\n",
              "      <th>min</th>\n",
              "      <td>2.016010e+07</td>\n",
              "      <td>23.000000</td>\n",
              "      <td>21.000000</td>\n",
              "      <td>25.000000</td>\n",
              "      <td>2.000000</td>\n",
              "      <td>21.000000</td>\n",
              "    </tr>\n",
              "    <tr>\n",
              "      <th>25%</th>\n",
              "      <td>2.017082e+07</td>\n",
              "      <td>2561.000000</td>\n",
              "      <td>2554.000000</td>\n",
              "      <td>15053.000000</td>\n",
              "      <td>12201.000000</td>\n",
              "      <td>2554.000000</td>\n",
              "    </tr>\n",
              "    <tr>\n",
              "      <th>50%</th>\n",
              "      <td>2.018072e+07</td>\n",
              "      <td>18301.000000</td>\n",
              "      <td>18032.000000</td>\n",
              "      <td>20698.000000</td>\n",
              "      <td>20549.000000</td>\n",
              "      <td>18032.000000</td>\n",
              "    </tr>\n",
              "    <tr>\n",
              "      <th>75%</th>\n",
              "      <td>2.019061e+07</td>\n",
              "      <td>21867.000000</td>\n",
              "      <td>21589.000000</td>\n",
              "      <td>23902.000000</td>\n",
              "      <td>23885.000000</td>\n",
              "      <td>21589.000000</td>\n",
              "    </tr>\n",
              "    <tr>\n",
              "      <th>max</th>\n",
              "      <td>2.020050e+07</td>\n",
              "      <td>29129.000000</td>\n",
              "      <td>29532.000000</td>\n",
              "      <td>39997.000000</td>\n",
              "      <td>39005.000000</td>\n",
              "      <td>29532.000000</td>\n",
              "    </tr>\n",
              "  </tbody>\n",
              "</table>\n",
              "</div>"
            ],
            "text/plain": [
              "          stockdate           ncg  ...           ztp  powerpool_uk_ocm\n",
              "count  1.309000e+03   1309.000000  ...   1309.000000       1309.000000\n",
              "mean   2.017969e+07  14735.971734  ...  16819.375859      14651.922078\n",
              "std    1.268308e+04   9264.787289  ...   9402.260896       9199.220152\n",
              "min    2.016010e+07     23.000000  ...      2.000000         21.000000\n",
              "25%    2.017082e+07   2561.000000  ...  12201.000000       2554.000000\n",
              "50%    2.018072e+07  18301.000000  ...  20549.000000      18032.000000\n",
              "75%    2.019061e+07  21867.000000  ...  23885.000000      21589.000000\n",
              "max    2.020050e+07  29129.000000  ...  39005.000000      29532.000000\n",
              "\n",
              "[8 rows x 6 columns]"
            ]
          },
          "metadata": {
            "tags": []
          },
          "execution_count": 13
        }
      ]
    },
    {
      "cell_type": "code",
      "metadata": {
        "colab": {
          "base_uri": "https://localhost:8080/",
          "height": 297
        },
        "id": "GpGTHhs0cu2y",
        "outputId": "f46aab8e-634f-4609-f233-e5aad411e278"
      },
      "source": [
        "df_qp_q.describe()"
      ],
      "execution_count": 14,
      "outputs": [
        {
          "output_type": "execute_result",
          "data": {
            "text/html": [
              "<div>\n",
              "<style scoped>\n",
              "    .dataframe tbody tr th:only-of-type {\n",
              "        vertical-align: middle;\n",
              "    }\n",
              "\n",
              "    .dataframe tbody tr th {\n",
              "        vertical-align: top;\n",
              "    }\n",
              "\n",
              "    .dataframe thead th {\n",
              "        text-align: right;\n",
              "    }\n",
              "</style>\n",
              "<table border=\"1\" class=\"dataframe\">\n",
              "  <thead>\n",
              "    <tr style=\"text-align: right;\">\n",
              "      <th></th>\n",
              "      <th>PTYPE</th>\n",
              "      <th>BUSINESSDATE</th>\n",
              "      <th>CAPA_QUANTITY</th>\n",
              "    </tr>\n",
              "  </thead>\n",
              "  <tbody>\n",
              "    <tr>\n",
              "      <th>count</th>\n",
              "      <td>310687.0</td>\n",
              "      <td>3.106870e+05</td>\n",
              "      <td>3.106870e+05</td>\n",
              "    </tr>\n",
              "    <tr>\n",
              "      <th>mean</th>\n",
              "      <td>2.0</td>\n",
              "      <td>2.017927e+07</td>\n",
              "      <td>6.889386e+06</td>\n",
              "    </tr>\n",
              "    <tr>\n",
              "      <th>std</th>\n",
              "      <td>0.0</td>\n",
              "      <td>1.287758e+04</td>\n",
              "      <td>2.712499e+07</td>\n",
              "    </tr>\n",
              "    <tr>\n",
              "      <th>min</th>\n",
              "      <td>2.0</td>\n",
              "      <td>2.016010e+07</td>\n",
              "      <td>0.000000e+00</td>\n",
              "    </tr>\n",
              "    <tr>\n",
              "      <th>25%</th>\n",
              "      <td>2.0</td>\n",
              "      <td>2.017080e+07</td>\n",
              "      <td>7.200000e+04</td>\n",
              "    </tr>\n",
              "    <tr>\n",
              "      <th>50%</th>\n",
              "      <td>2.0</td>\n",
              "      <td>2.018063e+07</td>\n",
              "      <td>4.800000e+05</td>\n",
              "    </tr>\n",
              "    <tr>\n",
              "      <th>75%</th>\n",
              "      <td>2.0</td>\n",
              "      <td>2.019060e+07</td>\n",
              "      <td>1.920024e+06</td>\n",
              "    </tr>\n",
              "    <tr>\n",
              "      <th>max</th>\n",
              "      <td>2.0</td>\n",
              "      <td>2.020050e+07</td>\n",
              "      <td>3.486713e+08</td>\n",
              "    </tr>\n",
              "  </tbody>\n",
              "</table>\n",
              "</div>"
            ],
            "text/plain": [
              "          PTYPE  BUSINESSDATE  CAPA_QUANTITY\n",
              "count  310687.0  3.106870e+05   3.106870e+05\n",
              "mean        2.0  2.017927e+07   6.889386e+06\n",
              "std         0.0  1.287758e+04   2.712499e+07\n",
              "min         2.0  2.016010e+07   0.000000e+00\n",
              "25%         2.0  2.017080e+07   7.200000e+04\n",
              "50%         2.0  2.018063e+07   4.800000e+05\n",
              "75%         2.0  2.019060e+07   1.920024e+06\n",
              "max         2.0  2.020050e+07   3.486713e+08"
            ]
          },
          "metadata": {
            "tags": []
          },
          "execution_count": 14
        }
      ]
    },
    {
      "cell_type": "code",
      "metadata": {
        "colab": {
          "base_uri": "https://localhost:8080/",
          "height": 297
        },
        "id": "jXaFHxpbcuf1",
        "outputId": "dddaf700-4231-4c59-ba71-daae59156a8a"
      },
      "source": [
        "df_qs_t.describe()"
      ],
      "execution_count": 15,
      "outputs": [
        {
          "output_type": "execute_result",
          "data": {
            "text/html": [
              "<div>\n",
              "<style scoped>\n",
              "    .dataframe tbody tr th:only-of-type {\n",
              "        vertical-align: middle;\n",
              "    }\n",
              "\n",
              "    .dataframe tbody tr th {\n",
              "        vertical-align: top;\n",
              "    }\n",
              "\n",
              "    .dataframe thead th {\n",
              "        text-align: right;\n",
              "    }\n",
              "</style>\n",
              "<table border=\"1\" class=\"dataframe\">\n",
              "  <thead>\n",
              "    <tr style=\"text-align: right;\">\n",
              "      <th></th>\n",
              "      <th>tempdate</th>\n",
              "      <th>temp_de</th>\n",
              "      <th>temp_it</th>\n",
              "      <th>temp_at</th>\n",
              "      <th>temp_pl</th>\n",
              "      <th>temp_ru</th>\n",
              "      <th>temp_ukr</th>\n",
              "    </tr>\n",
              "  </thead>\n",
              "  <tbody>\n",
              "    <tr>\n",
              "      <th>count</th>\n",
              "      <td>1.309000e+03</td>\n",
              "      <td>1309.000000</td>\n",
              "      <td>1309.000000</td>\n",
              "      <td>1309.000000</td>\n",
              "      <td>1309.000000</td>\n",
              "      <td>1309.000000</td>\n",
              "      <td>1309.000000</td>\n",
              "    </tr>\n",
              "    <tr>\n",
              "      <th>mean</th>\n",
              "      <td>2.017969e+07</td>\n",
              "      <td>10.493965</td>\n",
              "      <td>6.977082</td>\n",
              "      <td>16.613751</td>\n",
              "      <td>9.882353</td>\n",
              "      <td>12.051872</td>\n",
              "      <td>9.837357</td>\n",
              "    </tr>\n",
              "    <tr>\n",
              "      <th>std</th>\n",
              "      <td>1.268308e+04</td>\n",
              "      <td>6.941726</td>\n",
              "      <td>10.296518</td>\n",
              "      <td>6.351197</td>\n",
              "      <td>8.534717</td>\n",
              "      <td>7.951452</td>\n",
              "      <td>10.149430</td>\n",
              "    </tr>\n",
              "    <tr>\n",
              "      <th>min</th>\n",
              "      <td>2.016010e+07</td>\n",
              "      <td>-13.500000</td>\n",
              "      <td>-23.400000</td>\n",
              "      <td>-0.100000</td>\n",
              "      <td>-18.400000</td>\n",
              "      <td>-11.700000</td>\n",
              "      <td>-22.400000</td>\n",
              "    </tr>\n",
              "    <tr>\n",
              "      <th>25%</th>\n",
              "      <td>2.017082e+07</td>\n",
              "      <td>5.000000</td>\n",
              "      <td>0.000000</td>\n",
              "      <td>11.600000</td>\n",
              "      <td>3.900000</td>\n",
              "      <td>5.800000</td>\n",
              "      <td>2.200000</td>\n",
              "    </tr>\n",
              "    <tr>\n",
              "      <th>50%</th>\n",
              "      <td>2.018072e+07</td>\n",
              "      <td>10.400000</td>\n",
              "      <td>6.700000</td>\n",
              "      <td>16.100000</td>\n",
              "      <td>9.900000</td>\n",
              "      <td>12.100000</td>\n",
              "      <td>10.600000</td>\n",
              "    </tr>\n",
              "    <tr>\n",
              "      <th>75%</th>\n",
              "      <td>2.019061e+07</td>\n",
              "      <td>15.700000</td>\n",
              "      <td>15.700000</td>\n",
              "      <td>22.300000</td>\n",
              "      <td>16.300000</td>\n",
              "      <td>18.000000</td>\n",
              "      <td>18.300000</td>\n",
              "    </tr>\n",
              "    <tr>\n",
              "      <th>max</th>\n",
              "      <td>2.020050e+07</td>\n",
              "      <td>28.100000</td>\n",
              "      <td>26.500000</td>\n",
              "      <td>29.000000</td>\n",
              "      <td>29.400000</td>\n",
              "      <td>30.400000</td>\n",
              "      <td>29.100000</td>\n",
              "    </tr>\n",
              "  </tbody>\n",
              "</table>\n",
              "</div>"
            ],
            "text/plain": [
              "           tempdate      temp_de  ...      temp_ru     temp_ukr\n",
              "count  1.309000e+03  1309.000000  ...  1309.000000  1309.000000\n",
              "mean   2.017969e+07    10.493965  ...    12.051872     9.837357\n",
              "std    1.268308e+04     6.941726  ...     7.951452    10.149430\n",
              "min    2.016010e+07   -13.500000  ...   -11.700000   -22.400000\n",
              "25%    2.017082e+07     5.000000  ...     5.800000     2.200000\n",
              "50%    2.018072e+07    10.400000  ...    12.100000    10.600000\n",
              "75%    2.019061e+07    15.700000  ...    18.000000    18.300000\n",
              "max    2.020050e+07    28.100000  ...    30.400000    29.100000\n",
              "\n",
              "[8 rows x 7 columns]"
            ]
          },
          "metadata": {
            "tags": []
          },
          "execution_count": 15
        }
      ]
    }
  ]
}