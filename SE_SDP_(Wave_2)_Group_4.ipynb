{
  "nbformat": 4,
  "nbformat_minor": 0,
  "metadata": {
    "colab": {
      "name": "SE SDP (Wave 2) Group 4.ipynb",
      "provenance": [],
      "authorship_tag": "ABX9TyNC6FMrYwfK2ceJCnM5xyfz",
      "include_colab_link": true
    },
    "kernelspec": {
      "name": "python3",
      "display_name": "Python 3"
    }
  },
  "cells": [
    {
      "cell_type": "markdown",
      "metadata": {
        "id": "view-in-github",
        "colab_type": "text"
      },
      "source": [
        "<a href=\"https://colab.research.google.com/github/enricsanz-dxc/sesdpw2g4/blob/main/SE_SDP_(Wave_2)_Group_4.ipynb\" target=\"_parent\"><img src=\"https://colab.research.google.com/assets/colab-badge.svg\" alt=\"Open In Colab\"/></a>"
      ]
    },
    {
      "cell_type": "markdown",
      "metadata": {
        "id": "OZobS5ct_Noe"
      },
      "source": [
        "# Import local file"
      ]
    },
    {
      "cell_type": "code",
      "metadata": {
        "id": "P1sORGn6-uu7"
      },
      "source": [
        "import pandas as pd\r\n",
        "import io\r\n"
      ],
      "execution_count": null,
      "outputs": []
    },
    {
      "cell_type": "code",
      "metadata": {
        "id": "xVhk168Z-zV4"
      },
      "source": [
        "# Import local file\r\n",
        "from google.colab import files\r\n",
        "uploaded = files.upload()\r\n"
      ],
      "execution_count": null,
      "outputs": []
    },
    {
      "cell_type": "code",
      "metadata": {
        "id": "58yARrx6_W9M"
      },
      "source": [
        "df2 = pd.read_csv(io.BytesIO(uploaded['Filename.csv']))\r\n",
        "# Dataset is now stored in a Pandas Dataframe"
      ],
      "execution_count": null,
      "outputs": []
    },
    {
      "cell_type": "markdown",
      "metadata": {
        "id": "xLiEEyOY_LI4"
      },
      "source": [
        "# Input file description\r\n"
      ]
    },
    {
      "cell_type": "markdown",
      "metadata": {
        "id": "vzWfaVlV_4jU"
      },
      "source": [
        "**quantityPrediction_temperatures**\r\n",
        "```\r\n",
        "tempdate         -> Date AAAAMMYY\r\n",
        "temp_de          -> Signed decimal (dot as decimal separator)\r\n",
        "temp_it          -> Signed decimal (dot as decimal separator)\r\n",
        "temp_at          -> Signed decimal (dot as decimal separator)\r\n",
        "temp_pl          -> Signed decimal (dot as decimal separator) \r\n",
        "temp_ru          -> Signed decimal (dot as decimal separator) \r\n",
        "temp_ukr         -> Signed decimal (dot as decimal separator)\r\n",
        "```\r\n",
        "**quantityPrediction_stockPrices**\r\n",
        "```\r\n",
        "stockdate        -> Date AAAAMMYY\r\n",
        "ncg              -> Number\r\n",
        "powerpool        -> Number \r\n",
        "ttf              -> Number\r\n",
        "ztp              -> Number\r\n",
        "powerpool_uk_ocm -> Number \r\n",
        "```\r\n",
        "**quantityPrediction_quantities**\r\n",
        "```\r\n",
        "STATIONS        -> Station ID : Varchar(8)\r\n",
        "PTYPE           -> Number: 1 or 2\r\n",
        "BUSINESSDATE    -> Date AAAAMMYY \r\n",
        "CAPA_QUANTITY   -> Number\r\n",
        "\r\n",
        "```\r\n",
        "**inputdata_timeseries**\r\n",
        "Actual values\r\n",
        "```\r\n",
        "TYPE             -> Number: 1 or 2\r\n",
        "STATION          -> Station ID : Varchar(8)\r\n",
        "CALENDARYEAR     -> Year. Number(4) \r\n",
        "DAY              -> Date. Varchar(10. AAAA-MM-DD. \r\n",
        "ALLOCATION       -> Number\r\n",
        "CAPACITY         -> Number \r\n",
        "```\r\n",
        "\r\n"
      ]
    },
    {
      "cell_type": "code",
      "metadata": {
        "id": "ObEdIyBUVu-Y"
      },
      "source": [
        "from google.colab import drive\n",
        "drive.mount('/content/drive')"
      ],
      "execution_count": null,
      "outputs": []
    }
  ]
}