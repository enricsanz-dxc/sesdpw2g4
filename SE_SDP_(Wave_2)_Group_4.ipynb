{
  "nbformat": 4,
  "nbformat_minor": 0,
  "metadata": {
    "colab": {
      "name": "SE SDP (Wave 2) Group 4.ipynb",
      "provenance": [],
      "toc_visible": true,
      "include_colab_link": true
    },
    "kernelspec": {
      "name": "python3",
      "display_name": "Python 3"
    }
  },
  "cells": [
    {
      "cell_type": "markdown",
      "metadata": {
        "id": "view-in-github",
        "colab_type": "text"
      },
      "source": [
        "<a href=\"https://colab.research.google.com/github/enricsanz-dxc/sesdpw2g4/blob/main/SE_SDP_(Wave_2)_Group_4.ipynb\" target=\"_parent\"><img src=\"https://colab.research.google.com/assets/colab-badge.svg\" alt=\"Open In Colab\"/></a>"
      ]
    },
    {
      "cell_type": "markdown",
      "metadata": {
        "id": "mDsMU7stbdB5"
      },
      "source": [
        "# SE SDP Wave 2 . Group 4. Use Case\r\n",
        "\r\n",
        "## Quantity prediction\r\n",
        "### Time Series\r\n",
        "You need to predict two metrics: ALLOCATION and CAPACITY (allocation = ordered quantity, capacity = consumed quantity)  \r\n",
        "* An appropriate algorithm is the so called “Holt-Winters-Algorithm”  \r\n",
        "* Use TYPE = 1 only, TYPE=2 is not relevant for this time series approach! “1” stands for “households”  \r\n",
        "* All data are historical data reaching from 01 Jan 2017 – 02 June 2020. Data reaching from 03 June 2020 to 31 Dec 2020 are simply a guess taken by the NRG-4-U business department and must not be considered within your analysis\r\n",
        "* As the business department is under high time pressure, they asked you to predict on the training set only (no test set required)\r\n",
        "* Pls consider: if a station does not come with complete historical data it must be removed from the prediction process (this must be documented for the business department)\r\n",
        "* Prediction period: 03 June 2020 - 31.12.2021\r\n",
        "* Pls remember you need to predict 365 days for every station (guess you have 10 stations, then your result table will be containing 3650 records)\r\n",
        "\r\n",
        "\r\n",
        "\r\n"
      ]
    },
    {
      "cell_type": "markdown",
      "metadata": {
        "id": "OZobS5ct_Noe"
      },
      "source": [
        "#### Read csv files\r\n",
        "* Files has been stored on GITHUB to facilitate location from Notebook.\r\n",
        "---\r\n",
        "See files on: https://github.com/enricsanz-dxc/sesdpw2g4\r\n"
      ]
    },
    {
      "cell_type": "code",
      "metadata": {
        "id": "P1sORGn6-uu7"
      },
      "source": [
        "import pandas as pd\r\n",
        "import io\r\n"
      ],
      "execution_count": 2,
      "outputs": []
    },
    {
      "cell_type": "code",
      "metadata": {
        "id": "xVhk168Z-zV4"
      },
      "source": [
        "# Import  files from GITHUB\r\n",
        "url_inputdata_timeseries = 'https://github.com/enricsanz-dxc/sesdpw2g4/blob/main/files/inputdata_timeseries.csv?raw=true'\r\n",
        "\r\n",
        "df_it = pd.read_csv(url_inputdata_timeseries)\r\n"
      ],
      "execution_count": 3,
      "outputs": []
    },
    {
      "cell_type": "code",
      "metadata": {
        "id": "58yARrx6_W9M",
        "outputId": "890a4ecf-1993-4f14-e1c6-9c766cebadd4",
        "colab": {
          "base_uri": "https://localhost:8080/",
          "height": 297
        }
      },
      "source": [
        "df_it.describe()"
      ],
      "execution_count": 7,
      "outputs": [
        {
          "output_type": "execute_result",
          "data": {
            "text/html": [
              "<div>\n",
              "<style scoped>\n",
              "    .dataframe tbody tr th:only-of-type {\n",
              "        vertical-align: middle;\n",
              "    }\n",
              "\n",
              "    .dataframe tbody tr th {\n",
              "        vertical-align: top;\n",
              "    }\n",
              "\n",
              "    .dataframe thead th {\n",
              "        text-align: right;\n",
              "    }\n",
              "</style>\n",
              "<table border=\"1\" class=\"dataframe\">\n",
              "  <thead>\n",
              "    <tr style=\"text-align: right;\">\n",
              "      <th></th>\n",
              "      <th>TYPE</th>\n",
              "      <th>CALENDARYEAR</th>\n",
              "      <th>ALLOCATION</th>\n",
              "      <th>CAPACITY</th>\n",
              "    </tr>\n",
              "  </thead>\n",
              "  <tbody>\n",
              "    <tr>\n",
              "      <th>count</th>\n",
              "      <td>130452.000000</td>\n",
              "      <td>130452.000000</td>\n",
              "      <td>1.304520e+05</td>\n",
              "      <td>1.304520e+05</td>\n",
              "    </tr>\n",
              "    <tr>\n",
              "      <th>mean</th>\n",
              "      <td>1.511905</td>\n",
              "      <td>2019.352222</td>\n",
              "      <td>8.212870e+05</td>\n",
              "      <td>1.412304e+06</td>\n",
              "    </tr>\n",
              "    <tr>\n",
              "      <th>std</th>\n",
              "      <td>0.499860</td>\n",
              "      <td>1.234395</td>\n",
              "      <td>2.750337e+06</td>\n",
              "      <td>3.574267e+06</td>\n",
              "    </tr>\n",
              "    <tr>\n",
              "      <th>min</th>\n",
              "      <td>1.000000</td>\n",
              "      <td>2017.000000</td>\n",
              "      <td>0.000000e+00</td>\n",
              "      <td>0.000000e+00</td>\n",
              "    </tr>\n",
              "    <tr>\n",
              "      <th>25%</th>\n",
              "      <td>1.000000</td>\n",
              "      <td>2018.000000</td>\n",
              "      <td>0.000000e+00</td>\n",
              "      <td>0.000000e+00</td>\n",
              "    </tr>\n",
              "    <tr>\n",
              "      <th>50%</th>\n",
              "      <td>2.000000</td>\n",
              "      <td>2019.000000</td>\n",
              "      <td>0.000000e+00</td>\n",
              "      <td>3.000000e+00</td>\n",
              "    </tr>\n",
              "    <tr>\n",
              "      <th>75%</th>\n",
              "      <td>2.000000</td>\n",
              "      <td>2020.000000</td>\n",
              "      <td>3.642300e+04</td>\n",
              "      <td>8.162220e+05</td>\n",
              "    </tr>\n",
              "    <tr>\n",
              "      <th>max</th>\n",
              "      <td>2.000000</td>\n",
              "      <td>2021.000000</td>\n",
              "      <td>2.682238e+07</td>\n",
              "      <td>2.939087e+07</td>\n",
              "    </tr>\n",
              "  </tbody>\n",
              "</table>\n",
              "</div>"
            ],
            "text/plain": [
              "                TYPE   CALENDARYEAR    ALLOCATION      CAPACITY\n",
              "count  130452.000000  130452.000000  1.304520e+05  1.304520e+05\n",
              "mean        1.511905    2019.352222  8.212870e+05  1.412304e+06\n",
              "std         0.499860       1.234395  2.750337e+06  3.574267e+06\n",
              "min         1.000000    2017.000000  0.000000e+00  0.000000e+00\n",
              "25%         1.000000    2018.000000  0.000000e+00  0.000000e+00\n",
              "50%         2.000000    2019.000000  0.000000e+00  3.000000e+00\n",
              "75%         2.000000    2020.000000  3.642300e+04  8.162220e+05\n",
              "max         2.000000    2021.000000  2.682238e+07  2.939087e+07"
            ]
          },
          "metadata": {
            "tags": []
          },
          "execution_count": 7
        }
      ]
    },
    {
      "cell_type": "markdown",
      "metadata": {
        "id": "BEcrg-CSdGf8"
      },
      "source": [
        ""
      ]
    },
    {
      "cell_type": "markdown",
      "metadata": {
        "id": "r5rpCYC7cZu4"
      },
      "source": [
        "## Prediction for the IT department\r\n"
      ]
    },
    {
      "cell_type": "code",
      "metadata": {
        "id": "UcXwzoT_cZgU",
        "outputId": "8dff7eea-3a4d-46d2-db87-37de7f426a69",
        "colab": {
          "base_uri": "https://localhost:8080/",
          "height": 297
        }
      },
      "source": [
        "url_quantityPrediction_quantities = 'https://github.com/enricsanz-dxc/sesdpw2g4/blob/main/files/quantityPrediction_quantities.csv?raw=true'\r\n",
        "url_quantityPrediction_stockPrices = 'https://github.com/enricsanz-dxc/sesdpw2g4/raw/main/files/quantityPrediction_stockPrices.csv?raw=true'\r\n",
        "url_quantityPrediction_temperatures = 'https://github.com/enricsanz-dxc/sesdpw2g4/raw/main/files/quantityPrediction_temperatures.csv?raw=true'\r\n",
        "\r\n",
        "\r\n",
        "df_qp_q = pd.read_csv(url_quantityPrediction_quantities)\r\n",
        "df_qd_sp = pd.read_csv(url_quantityPrediction_stockPrices)\r\n",
        "df_qs_t = pd.read_csv(url_quantityPrediction_temperatures)\r\n",
        "\r\n"
      ],
      "execution_count": 11,
      "outputs": [
        {
          "output_type": "execute_result",
          "data": {
            "text/html": [
              "<div>\n",
              "<style scoped>\n",
              "    .dataframe tbody tr th:only-of-type {\n",
              "        vertical-align: middle;\n",
              "    }\n",
              "\n",
              "    .dataframe tbody tr th {\n",
              "        vertical-align: top;\n",
              "    }\n",
              "\n",
              "    .dataframe thead th {\n",
              "        text-align: right;\n",
              "    }\n",
              "</style>\n",
              "<table border=\"1\" class=\"dataframe\">\n",
              "  <thead>\n",
              "    <tr style=\"text-align: right;\">\n",
              "      <th></th>\n",
              "      <th>tempdate</th>\n",
              "      <th>temp_de</th>\n",
              "      <th>temp_it</th>\n",
              "      <th>temp_at</th>\n",
              "      <th>temp_pl</th>\n",
              "      <th>temp_ru</th>\n",
              "      <th>temp_ukr</th>\n",
              "    </tr>\n",
              "  </thead>\n",
              "  <tbody>\n",
              "    <tr>\n",
              "      <th>count</th>\n",
              "      <td>1.309000e+03</td>\n",
              "      <td>1309.000000</td>\n",
              "      <td>1309.000000</td>\n",
              "      <td>1309.000000</td>\n",
              "      <td>1309.000000</td>\n",
              "      <td>1309.000000</td>\n",
              "      <td>1309.000000</td>\n",
              "    </tr>\n",
              "    <tr>\n",
              "      <th>mean</th>\n",
              "      <td>2.017969e+07</td>\n",
              "      <td>10.493965</td>\n",
              "      <td>6.977082</td>\n",
              "      <td>16.613751</td>\n",
              "      <td>9.882353</td>\n",
              "      <td>12.051872</td>\n",
              "      <td>9.837357</td>\n",
              "    </tr>\n",
              "    <tr>\n",
              "      <th>std</th>\n",
              "      <td>1.268308e+04</td>\n",
              "      <td>6.941726</td>\n",
              "      <td>10.296518</td>\n",
              "      <td>6.351197</td>\n",
              "      <td>8.534717</td>\n",
              "      <td>7.951452</td>\n",
              "      <td>10.149430</td>\n",
              "    </tr>\n",
              "    <tr>\n",
              "      <th>min</th>\n",
              "      <td>2.016010e+07</td>\n",
              "      <td>-13.500000</td>\n",
              "      <td>-23.400000</td>\n",
              "      <td>-0.100000</td>\n",
              "      <td>-18.400000</td>\n",
              "      <td>-11.700000</td>\n",
              "      <td>-22.400000</td>\n",
              "    </tr>\n",
              "    <tr>\n",
              "      <th>25%</th>\n",
              "      <td>2.017082e+07</td>\n",
              "      <td>5.000000</td>\n",
              "      <td>0.000000</td>\n",
              "      <td>11.600000</td>\n",
              "      <td>3.900000</td>\n",
              "      <td>5.800000</td>\n",
              "      <td>2.200000</td>\n",
              "    </tr>\n",
              "    <tr>\n",
              "      <th>50%</th>\n",
              "      <td>2.018072e+07</td>\n",
              "      <td>10.400000</td>\n",
              "      <td>6.700000</td>\n",
              "      <td>16.100000</td>\n",
              "      <td>9.900000</td>\n",
              "      <td>12.100000</td>\n",
              "      <td>10.600000</td>\n",
              "    </tr>\n",
              "    <tr>\n",
              "      <th>75%</th>\n",
              "      <td>2.019061e+07</td>\n",
              "      <td>15.700000</td>\n",
              "      <td>15.700000</td>\n",
              "      <td>22.300000</td>\n",
              "      <td>16.300000</td>\n",
              "      <td>18.000000</td>\n",
              "      <td>18.300000</td>\n",
              "    </tr>\n",
              "    <tr>\n",
              "      <th>max</th>\n",
              "      <td>2.020050e+07</td>\n",
              "      <td>28.100000</td>\n",
              "      <td>26.500000</td>\n",
              "      <td>29.000000</td>\n",
              "      <td>29.400000</td>\n",
              "      <td>30.400000</td>\n",
              "      <td>29.100000</td>\n",
              "    </tr>\n",
              "  </tbody>\n",
              "</table>\n",
              "</div>"
            ],
            "text/plain": [
              "           tempdate      temp_de  ...      temp_ru     temp_ukr\n",
              "count  1.309000e+03  1309.000000  ...  1309.000000  1309.000000\n",
              "mean   2.017969e+07    10.493965  ...    12.051872     9.837357\n",
              "std    1.268308e+04     6.941726  ...     7.951452    10.149430\n",
              "min    2.016010e+07   -13.500000  ...   -11.700000   -22.400000\n",
              "25%    2.017082e+07     5.000000  ...     5.800000     2.200000\n",
              "50%    2.018072e+07    10.400000  ...    12.100000    10.600000\n",
              "75%    2.019061e+07    15.700000  ...    18.000000    18.300000\n",
              "max    2.020050e+07    28.100000  ...    30.400000    29.100000\n",
              "\n",
              "[8 rows x 7 columns]"
            ]
          },
          "metadata": {
            "tags": []
          },
          "execution_count": 11
        }
      ]
    },
    {
      "cell_type": "code",
      "metadata": {
        "id": "iXo3P86xcvCN"
      },
      "source": [
        "df_qd_sp.describe()\r\n"
      ],
      "execution_count": null,
      "outputs": []
    },
    {
      "cell_type": "code",
      "metadata": {
        "id": "GpGTHhs0cu2y"
      },
      "source": [
        "df_qp_q.describe()"
      ],
      "execution_count": null,
      "outputs": []
    },
    {
      "cell_type": "code",
      "metadata": {
        "id": "jXaFHxpbcuf1"
      },
      "source": [
        "df_qs_t.describe()"
      ],
      "execution_count": null,
      "outputs": []
    }
  ]
}